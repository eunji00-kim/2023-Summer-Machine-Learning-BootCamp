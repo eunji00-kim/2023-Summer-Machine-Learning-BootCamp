{
 "cells": [
  {
   "cell_type": "markdown",
   "id": "553f0e75",
   "metadata": {},
   "source": [
    "# Day 2\n",
    "* 다중 회귀, 릿지 회귀, 라쏘 회귀\n",
    "* 손실함수와 비용함수, 조기종료\n",
    "* 로지스틱 회귀\n",
    "* SGB Classifier\n",
    "* 나이브 베이즈"
   ]
  },
  {
   "cell_type": "markdown",
   "id": "61ebd9e8",
   "metadata": {},
   "source": [
    "## 다중 회귀 (Multiple Regression)\n",
    "* 여러 개의 특성을 사용한 선형 회귀\n",
    "* 1개의 특성을 사용한 경우 선형 회귀 모델이 학습하는 것: 직선\n",
    "* 2개의 특성을 사용한 경우 선형 회귀 모델이 학습하는 것: 평면\n",
    "* 다중의 독립변수가 있는 형태\n",
    "* 단순 회귀 분석의 확장\n",
    "* 기존의 특성을 사용하여 새로운 특성을 뽑아내는 작업 -> 특성 공학 (Feature Engineering)\n",
    "* Polynomial Features 클래스를 이용하면 다양한 특성을 고려할 수 있음\n",
    "* 즉, 주어진 차수까지 특성 간의 모든 교차항을 고려\n",
    "* 편향과 분산의 트레이브 오프 문제\n",
    "* 편향(Bias)\n",
    "    * 지나치게 단순화된 모델로 한 방향으로 치우치는 경향\n",
    "    * 편향이 크면 underfitting 야기. 모델의 중요한 요소를 고려하지 못할 가능성 존재\n",
    "* 분산(Vairance)\n",
    "    * 지나치게 복잡한 모델로 높은 변동성\n",
    "    * 분산이 크면 overfitting을 야기. 훈련 데이터에 지나치게 적합을 시켜 일반화가 되지 않은 모델 구축\n",
    "* 특성의 개수를 늘리면 선형 모델을 아주 강력해짐 -> 거의 완벽하게 훈련 데이터셋에 대한 학습이 가능해질 것\n",
    "* 하지만 훈련 데이터셋에 오버피팅의 가능성 존재\n",
    "* 특성을 줄이는 조치를 해줘야 함: 규제"
   ]
  },
  {
   "cell_type": "markdown",
   "id": "77abe7e8",
   "metadata": {},
   "source": [
    "## 규제를 추가한 모델: 릿지와 라쏘\n",
    "* 규제(regularization): 머신러닝 모델이 훈련 데이터셋을 너무 과도하게 학습하지 못하도록 훼방하는 것\n",
    "* 즉, 모델이 훈련 데이터셋에 오버피팅 되지 않도록 만드는 것\n",
    "* ex. 선형 회귀 모델: 특성에 곱해지는 계수(기울기)의 크기를 작게 만드는 것\n",
    "* 제약조건: 계수의 크기 제한\n",
    "* 릿지(ridge): 계수를 제곱한 값을 기준으로 규제를 적용\n",
    "* 라쏘(lasso): 계수의 절댓값을 기준으로 규제를 적용\n",
    "* 규제의 양을 임의로 조절가능. alpha 값이 크면 규제 강도가 커지므로 계수 값을 줄이고 조금 더 과소적합 되도록 유도\n",
    "* alpha 값이 작으면 계수를 줄이는 역할이 줄어들고 선형 회귀 모델과 유사해지므로 과대적합 될 가능성이 큼\n",
    "* 두 알고리즘 모두 계수의 크기를 줄이지만, 라쏘는 아예 0으로 만들 수도 있음\n",
    "* 일반적으로 릿지를 조금 더 선호"
   ]
  },
  {
   "cell_type": "markdown",
   "id": "fb9f0fc2",
   "metadata": {},
   "source": [
    "### 릿지 회귀\n",
    "* 규제항은 훈련하는 동안에만 비용함수에 추가\n",
    "* 모델의 훈련이 끝나면 모델의 성능을 규제가 없는 성능 지표로 평가\n",
    "* 편향은 규제되지 않음 (i=1에서 시작)\n",
    "* 영향을 거의 미치지 않는 특성에 대하여 0에 가까운 가중치를 부여"
   ]
  },
  {
   "cell_type": "markdown",
   "id": "cbc5e13d",
   "metadata": {},
   "source": [
    "### 라쏘 회귀\n",
    "* 특성값의 계수가 매우 낮다면, 0으로 수렴하게 해서 특성을 지워버림\n",
    "* 특성이 모델에 미치는 영향을 0으로 만들기 -> bias 증가 -> overfitting 방지"
   ]
  },
  {
   "cell_type": "markdown",
   "id": "7a6ed3fd",
   "metadata": {},
   "source": [
    "## 손실함수와 비용함수, 조기종료"
   ]
  },
  {
   "cell_type": "markdown",
   "id": "9be8a0d9",
   "metadata": {},
   "source": [
    "### 손실함수 (Loss Function)\n",
    "* 실제 y값에 비해 가정한 모델의 y_hat(추정값)이 얼마나 잘 예측됐는지 판단하는 함수\n",
    "* 샘플 하나에 대한 손실을 정의\n",
    "* L1 손실함수: 실제값과 예측값의 차이의 절댓값\n",
    "* L2 손실함수: 실제값과 예측값의 차이의 제곱"
   ]
  },
  {
   "cell_type": "markdown",
   "id": "6a174443",
   "metadata": {},
   "source": [
    "### 비용함수(Cost Function); 목적함수\n",
    "* 머신러닝 알고리즘의 최적화는 곧 비용함수의 값이 작아지는 파라미터를 찾는 과정 안에서 이루어짐\n",
    "* Gradient Descent (GD) 기반의 방식이 가장 기본 알고리즘\n",
    "* 비용함수는 손실함수를 사용하여 정의될 수 있음. 즉, 훈련 세트에 있는 모든 샘플에 대한 손실함수의 합\n",
    "* 비용함수의 예: MSE(Mean Squared Error), MAE(Mean Absolute Error), Binary Cross-entropy(log-loss) 등"
   ]
  },
  {
   "cell_type": "markdown",
   "id": "c00f9433",
   "metadata": {},
   "source": [
    "### 조기종료 (Early Stopping)\n",
    "* 반복학습 알고리즘의 규제 방법\n",
    "* validation error가 최솟값에 도달하면 훈련을 중지시키는 것\n",
    "* validation set의 error가 알고리즘의 학습에 따라 감소했다가 증가하는 현상이 나타남 -> 모델이 훈련 데이터에 overfitting 되었기 때문에 나타나는 현상\n",
    "* 만약, 최솟값에 도달했는지 확인하기 어려운 경우? -> 특정횟수 지정"
   ]
  },
  {
   "cell_type": "markdown",
   "id": "68d60769",
   "metadata": {},
   "source": [
    "## 로지스틱 회귀\n",
    "* 분류 알고리즘\n",
    "* 샘플이 특정 클래스에 속할 확률을 추정하는 데 사용 (보통 50%를 기준으로 사용하며, 이진 분류 수행)\n",
    "* 이름은 회귀이지만 분류 모델\n",
    "* 선형회귀와 동일하게 선형 방정식 학습\n",
    "* z = ax + by + cw + f (a, b, c는 가중치 혹은 계수)\n",
    "* z는 어떤 값이든 가능하지만, 확률이 되려면 0~1(0~100%) 사잇값이 되어야 함\n",
    "* sigmoid function or logistic function 이용\n",
    "* 훈련과 비용 함수\n",
    "    * 훈련의 목적: 양성 샘플(y=1)에 대해서는 높은 확률을 추정하고, 음성 샘플(y=0)에 대해서는 낮은 확률을 추정하는 모델의 파라미터 벡터를 찾는 것\n",
    "    * 로지스틱 회귀의 비용함수(로그 손실) = 이진 크로스 엔트로피 손실 함수"
   ]
  },
  {
   "cell_type": "markdown",
   "id": "989a3474",
   "metadata": {},
   "source": [
    "## 다항 로지스틱 회귀 (Multiple Logistic Regression)\n",
    "* 다중 클래스를 위한 다항 로지스틱 회귀 = 소프트맥스 회귀 (Softmax Regression)\n",
    "* 샘플 x가 주어지면 소프트맥스 회귀 모델이 각 클래스 k에 대한 점수를 계산하고, 그 점수에 소프트맥스 함수를 적용하여 각 클래스의 확률을 추정\n",
    "* 클래스마다 z값을 하나씩 계산하여, 가장 높은 확률 값을 출력하는 클래스가 예측 클래스가 됨\n",
    "* 훈련 방법\n",
    "    * 모델이 타깃 클래스에 대해서는 높은 확률로 추정하도록 만드는 것이 목적\n",
    "    * Cross-entropy 비용함수를 최소화하는 것\n",
    "    * 타깃 클래스에 대해 낮은 확률을 예측하는 모델 억제\n",
    "    * Croww-entropy는 추정된 클래스의 확률이 타깃 클래스에 얼마나 잘 맞는지 측정하는 용도로 사용"
   ]
  },
  {
   "cell_type": "markdown",
   "id": "bf4f5006",
   "metadata": {},
   "source": [
    "## SGD Classifier (Stochastic Gradient Descent Classifier)\n",
    "* 점진적인 학습\n",
    "* 훈련 데이터가 한 번에 준비되는 것이 아니라 조금씩 전달된다면?\n",
    "* 기존의 훈련 데이터에 새로운 데이터를 추가하여 모델을 매일 다시 훈련시킨다면?\n",
    "* 새로운 데이터를 추가하면서 이전 데이터를 버려서 훈련 데이터 크기를 일정하게 유지한다면?\n",
    "* 훈련한 모델을 버리지 않고, 새로운 데이터에 대해서만 조금씩 더 훈련할 수 없을까?\n",
    "* '점진적 학습'을 적용한 알고리즘 =  확률적 경사 하강법 (Stochastic Gradient Descent)\n",
    "* 경사하강법: 가장 가파른 경사를 따라 원하는 지점에 도달하도록 하는 것이 목표\n",
    "* 확률적 경사하강법: 전체 샘플을 사용하는 것이 아니라, 하나의 샘플을 훈련 세트에서 랜덤하게 골라 가장 가파른 길을 찾도록 하는 것\n",
    "* 확률적 경사하강법은 훈련 데이터셋을 이용하여 최적의 장소로 조금씩 이동하는 알고리즘\n",
    "* 만약, 훈련 데이터셋이 모두 준비되지 않더라도, 중간에 업데이트 되는 데이터가 있더라도 학습을 이어나갈 수 있음\n",
    "* 함숫값이 가장 빨리 감소하는 방향 구하기\n",
    "* 우리의 목적: 주어진 우리의 데이터에 대해서 출력값을 잘 도출하는 함수를 찾고 싶음\n",
    "* 그러기 위해서?: loss값을 작게하는 loss function의 입력값(파라미터)을 찾아야 함 -> 어떻게? -> GD\n",
    "* 모델링 -> 손실계산 -> 최적화\n",
    "* SGD Classifier이란, SGD를 이용한 선형 분류 모델\n",
    "* 기존의 머신러닝 모델들에 SGDClassifier()를 적용하면 SGD 적용 가능\n",
    "* 해당 객체는 전달한 훈련 세트에서 1개씩 샘플을 꺼내서 GD 수행\n",
    "* GD vs. SGD\n",
    "    * 모든 데이터를 계산해서 업데이트 vs. 일부 데이터만 계산한 후 업데이트\n",
    "    * 최적의 한 스텝으로 전진 vs. 빠르게 전진\n",
    "    * 확실한데 너무 느림 vs. 조금 헤매지만 그래도 빠름"
   ]
  },
  {
   "cell_type": "markdown",
   "id": "70426d8f",
   "metadata": {},
   "source": [
    "## 나이브 베이즈 (Naive Bayes)\n",
    "* Bayes 이론은 새로운 정보와 사건의 사전확률이 주어졌을 때, 어떤 사건이 일어날 확률을 이해하는 방법\n",
    "* 머신러닝 이전부터 있었던 방법론\n",
    "* 베이즈 이론을 분류에 적용한 것이 나이브 베이즈 분류기\n",
    "* 직관적인 방법을 사용\n",
    "* 적은 양의 데이터에서 사용 가능\n",
    "* 훈련과 예측 계산 비용이 적게 발생\n",
    "* 환경이 바뀌더라도 안정적인 결과 생성\n",
    "* 각 특성과 특성의 likelihood가 독립적이라고 가정하기 때문에 나이브 베이즈라는 이름이 붙음\n",
    "* 나이브 베이즈는 데이터에 있는 각 특성에 대해 likelihood의 통계적 분포를 가정해야 함 (특성의 성질에 따라 분포를 선택함)"
   ]
  },
  {
   "cell_type": "markdown",
   "id": "ab0ff3d1",
   "metadata": {},
   "source": [
    "## 특성 공학과 규제\n",
    "* 특성 공학이란, 기존의 특성을 사용해 새로운 특성을 뽑아내는 작업\n",
    "* 판다스는 유명한 데이터 분석 라이브러리\n",
    "* 데이터프레임은 판다스의 핵심 데이터 구조"
   ]
  },
  {
   "cell_type": "code",
   "execution_count": 1,
   "id": "42792255",
   "metadata": {},
   "outputs": [],
   "source": [
    "import pandas as pd"
   ]
  },
  {
   "cell_type": "code",
   "execution_count": 2,
   "id": "f6e07cc0",
   "metadata": {},
   "outputs": [
    {
     "name": "stdout",
     "output_type": "stream",
     "text": [
      "[[ 8.4   2.11  1.41]\n",
      " [13.7   3.53  2.  ]\n",
      " [15.    3.82  2.43]\n",
      " [16.2   4.59  2.63]\n",
      " [17.4   4.59  2.94]\n",
      " [18.    5.22  3.32]\n",
      " [18.7   5.2   3.12]\n",
      " [19.    5.64  3.05]\n",
      " [19.6   5.14  3.04]\n",
      " [20.    5.08  2.77]\n",
      " [21.    5.69  3.56]\n",
      " [21.    5.92  3.31]\n",
      " [21.    5.69  3.67]\n",
      " [21.3   6.38  3.53]\n",
      " [22.    6.11  3.41]\n",
      " [22.    5.64  3.52]\n",
      " [22.    6.11  3.52]\n",
      " [22.    5.88  3.52]\n",
      " [22.    5.52  4.  ]\n",
      " [22.5   5.86  3.62]\n",
      " [22.5   6.79  3.62]\n",
      " [22.7   5.95  3.63]\n",
      " [23.    5.22  3.63]\n",
      " [23.5   6.28  3.72]\n",
      " [24.    7.29  3.72]\n",
      " [24.    6.38  3.82]\n",
      " [24.6   6.73  4.17]\n",
      " [25.    6.44  3.68]\n",
      " [25.6   6.56  4.24]\n",
      " [26.5   7.17  4.14]\n",
      " [27.3   8.32  5.14]\n",
      " [27.5   7.17  4.34]\n",
      " [27.5   7.05  4.34]\n",
      " [27.5   7.28  4.57]\n",
      " [28.    7.82  4.2 ]\n",
      " [28.7   7.59  4.64]\n",
      " [30.    7.62  4.77]\n",
      " [32.8  10.03  6.02]\n",
      " [34.5  10.26  6.39]\n",
      " [35.   11.49  7.8 ]\n",
      " [36.5  10.88  6.86]\n",
      " [36.   10.61  6.74]\n",
      " [37.   10.84  6.26]\n",
      " [37.   10.57  6.37]\n",
      " [39.   11.14  7.49]\n",
      " [39.   11.14  6.  ]\n",
      " [39.   12.43  7.35]\n",
      " [40.   11.93  7.11]\n",
      " [40.   11.73  7.22]\n",
      " [40.   12.38  7.46]\n",
      " [40.   11.14  6.63]\n",
      " [42.   12.8   6.87]\n",
      " [43.   11.93  7.28]\n",
      " [43.   12.51  7.42]\n",
      " [43.5  12.6   8.14]\n",
      " [44.   12.49  7.6 ]]\n"
     ]
    }
   ],
   "source": [
    "# csv 파일을 read_csv() 함수로 데이터프레임화\n",
    "df = pd.read_csv(\"https://bit.ly/perch_csv_data\")\n",
    "\n",
    "# to_numpy() 메서드를 통해 넘파이 배열로 변경\n",
    "perch_full = df.to_numpy()\n",
    "\n",
    "# perch_full 출력: (1열 length, 2열 height, 3열 width)\n",
    "print(perch_full)"
   ]
  },
  {
   "cell_type": "code",
   "execution_count": 3,
   "id": "b1f3aca4",
   "metadata": {},
   "outputs": [],
   "source": [
    "# 타깃 데이터 준비 및 훈련 세트와 테스트 세트로 나누기\n",
    "\n",
    "import numpy as np\n",
    "\n",
    "# 넘파이 배열의 농어의 무게\n",
    "perch_weight = np.array(\n",
    "    [5.9, 32.0, 40.0, 51.5, 70.0, 100.0, 78.0, 80.0, 85.0, 85.0,\n",
    "     110.0, 115.0, 125.0, 130.0, 120.0, 120.0, 130.0, 135.0, 110.0,\n",
    "     130.0, 150.0, 145.0, 150.0, 170.0, 225.0, 145.0, 188.0, 180.0,\n",
    "     197.0, 218.0, 300.0, 260.0, 265.0, 250.0, 250.0, 300.0, 320.0,\n",
    "     514.0, 556.0, 840.0, 685.0, 700.0, 700.0, 690.0, 900.0, 650.0,\n",
    "     820.0, 850.0, 900.0, 1015.0, 820.0, 1100.0, 1000.0, 1100.0,\n",
    "     1000.0, 1000.0]\n",
    "    )"
   ]
  },
  {
   "cell_type": "code",
   "execution_count": 4,
   "id": "18bd2d7a",
   "metadata": {},
   "outputs": [],
   "source": [
    "from sklearn.model_selection import train_test_split\n",
    "\n",
    "# 훈련 세트와 테스트 세트로 나눔\n",
    "train_input, test_input, train_target, test_target = train_test_split(perch_full, perch_weight, random_state = 42)"
   ]
  },
  {
   "cell_type": "code",
   "execution_count": 5,
   "id": "b79f855a",
   "metadata": {},
   "outputs": [],
   "source": [
    "# 사이킷런에서 특성을 만들거나 전처리하기 위한 다양한 클래스 제공\n",
    "# 사이킷런에서는 이런 클래스를 변환기라고 함\n",
    "\n",
    "# 변환기 (transformer) PolynomialFeatures import\n",
    "from sklearn.preprocessing import PolynomialFeatures"
   ]
  },
  {
   "cell_type": "code",
   "execution_count": 6,
   "id": "1b37708c",
   "metadata": {},
   "outputs": [
    {
     "name": "stdout",
     "output_type": "stream",
     "text": [
      "[[1. 2. 3. 4. 6. 9.]]\n"
     ]
    }
   ],
   "source": [
    "# PolynomialFeatures 클래스의 객체를 생성\n",
    "poly = PolynomialFeatures()\n",
    "\n",
    "# 샘플 [2,3]으로 훈련\n",
    "# 두 개의 특성 2와 3으로 이루어진 샘플 하나를 적용\n",
    "poly.fit([[2, 3]])\n",
    "\n",
    "# 새롭게 만들어진 특성 조합 출력\n",
    "# fit 메서드는 새롭게 만들 특성 조합을 찾고, transform 메서드는 실제로 데이터 변환\n",
    "print(poly.transform([[2, 3]]))"
   ]
  },
  {
   "cell_type": "code",
   "execution_count": 7,
   "id": "714af6ac",
   "metadata": {},
   "outputs": [
    {
     "name": "stdout",
     "output_type": "stream",
     "text": [
      "[[2. 3. 4. 6. 9.]]\n"
     ]
    }
   ],
   "source": [
    "# include_bias = False로 특성 1을 제거\n",
    "poly = PolynomialFeatures(include_bias = False)\n",
    "\n",
    "poly.fit([[2, 3]])\n",
    "print(poly.transform([[2, 3]]))\n",
    "\n",
    "# 절편을 위한 항이 제거되고, 특성의 제곱과 특성끼리 곱한 항만 추가"
   ]
  },
  {
   "cell_type": "code",
   "execution_count": 8,
   "id": "313582b7",
   "metadata": {},
   "outputs": [],
   "source": [
    "poly = PolynomialFeatures(include_bias = False)\n",
    "\n",
    "# train_input으로 훈련\n",
    "poly.fit(train_input)\n",
    "\n",
    "train_poly = poly.transform(train_input)"
   ]
  },
  {
   "cell_type": "code",
   "execution_count": 9,
   "id": "5043302c",
   "metadata": {},
   "outputs": [
    {
     "name": "stdout",
     "output_type": "stream",
     "text": [
      "(42, 9)\n"
     ]
    }
   ],
   "source": [
    "# 새로운 특성 조합으로 구성된 train_poly shape 출력\n",
    "print(train_poly.shape)"
   ]
  },
  {
   "cell_type": "code",
   "execution_count": 10,
   "id": "33fff7e3",
   "metadata": {},
   "outputs": [
    {
     "data": {
      "text/plain": [
       "array(['x0', 'x1', 'x2', 'x0^2', 'x0 x1', 'x0 x2', 'x1^2', 'x1 x2',\n",
       "       'x2^2'], dtype=object)"
      ]
     },
     "execution_count": 10,
     "metadata": {},
     "output_type": "execute_result"
    }
   ],
   "source": [
    "# 9개 특성이 어떻게 만들어졌는지 확인\n",
    "poly.get_feature_names_out()"
   ]
  },
  {
   "cell_type": "code",
   "execution_count": 11,
   "id": "fb5cf3d8",
   "metadata": {},
   "outputs": [],
   "source": [
    "# 테스트 세트를 변환\n",
    "test_poly = poly.transform(test_input)"
   ]
  },
  {
   "cell_type": "code",
   "execution_count": 12,
   "id": "e6c5a60a",
   "metadata": {},
   "outputs": [
    {
     "name": "stdout",
     "output_type": "stream",
     "text": [
      "0.9903183436982125\n"
     ]
    }
   ],
   "source": [
    "# LinearGression 클래스 import\n",
    "from sklearn.linear_model import LinearRegression\n",
    "lr = LinearRegression()\n",
    "\n",
    "# LinearRegerssion 클래스 객체 생성\n",
    "lr.fit(train_poly, train_target)\n",
    "\n",
    "# 모델 훈련\n",
    "lr.fit(train_poly, train_target)\n",
    "\n",
    "# score 출력\n",
    "print(lr.score(train_poly, train_target))"
   ]
  },
  {
   "cell_type": "code",
   "execution_count": 13,
   "id": "42d9f6b7",
   "metadata": {},
   "outputs": [
    {
     "name": "stdout",
     "output_type": "stream",
     "text": [
      "0.9714559911594155\n"
     ]
    }
   ],
   "source": [
    "# 테스트 세트에 대한 score 출력\n",
    "print(lr.score(test_poly, test_target))"
   ]
  },
  {
   "cell_type": "code",
   "execution_count": 14,
   "id": "40af2a16",
   "metadata": {},
   "outputs": [],
   "source": [
    "# degree = 5를 통해서 5제곱까지 특성을 생성\n",
    "poly = PolynomialFeatures(degree = 5, include_bias = False)\n",
    "\n",
    "poly.fit(train_input)\n",
    "train_poly = poly.transform(train_input)\n",
    "test_poly = poly.transform(test_input)"
   ]
  },
  {
   "cell_type": "code",
   "execution_count": 15,
   "id": "0c6ffb14",
   "metadata": {},
   "outputs": [
    {
     "name": "stdout",
     "output_type": "stream",
     "text": [
      "(42, 55)\n"
     ]
    }
   ],
   "source": [
    "# (42, 55)으로 5개의 특성이 생성\n",
    "print(train_poly.shape)"
   ]
  },
  {
   "cell_type": "code",
   "execution_count": 16,
   "id": "d78e011d",
   "metadata": {},
   "outputs": [
    {
     "name": "stdout",
     "output_type": "stream",
     "text": [
      "0.9999999999938143\n"
     ]
    }
   ],
   "source": [
    "lr.fit(train_poly, train_target)\n",
    "print(lr.score(train_poly, train_target))\n",
    "\n",
    "# 훈련 세트에서는 완벽한 성능을 보임"
   ]
  },
  {
   "cell_type": "code",
   "execution_count": 17,
   "id": "68c304bf",
   "metadata": {},
   "outputs": [
    {
     "name": "stdout",
     "output_type": "stream",
     "text": [
      "-144.40744532797535\n"
     ]
    }
   ],
   "source": [
    "print(lr.score(test_poly, test_target))\n",
    "\n",
    "# 테스트 세트에서는 좋지 않은 성능을 보임\n",
    "# 과대적합"
   ]
  },
  {
   "cell_type": "code",
   "execution_count": 18,
   "id": "e8c1f881",
   "metadata": {},
   "outputs": [],
   "source": [
    "# 선형 회귀 모델에 규제를 적용할 때, 계수 값의 크기가 서로 많이 다르면 공정한 제어 X\n",
    "\n",
    "from sklearn.preprocessing import StandardScaler\n",
    "\n",
    "# StandardScaler() 인스턴스 생성\n",
    "ss = StandardScaler()\n",
    "\n",
    "# PolynomialFeatures 클래스로 만든 train_poly로 객체를 훈련\n",
    "ss.fit(train_poly)\n",
    "\n",
    "# 표준점수로 변환한 train_scale\n",
    "train_scaled = ss.transform(train_poly)\n",
    "\n",
    "# 표준점수로 변환한 test_scale\n",
    "test_scaled = ss.transform(test_poly)"
   ]
  },
  {
   "cell_type": "code",
   "execution_count": 19,
   "id": "0a267981",
   "metadata": {},
   "outputs": [
    {
     "name": "stdout",
     "output_type": "stream",
     "text": [
      "0.9896101671037343\n"
     ]
    }
   ],
   "source": [
    "# Ridge import\n",
    "from sklearn.linear_model import Ridge\n",
    "\n",
    "# 객체 생성\n",
    "ridge = Ridge()\n",
    "\n",
    "# 모델 훈련\n",
    "ridge.fit(train_scaled, train_target)\n",
    "\n",
    "# 훈련 세트 점수 출력\n",
    "print(ridge.score(train_scaled, train_target))"
   ]
  },
  {
   "cell_type": "code",
   "execution_count": 20,
   "id": "45365799",
   "metadata": {},
   "outputs": [
    {
     "name": "stdout",
     "output_type": "stream",
     "text": [
      "0.9790693977615386\n"
     ]
    }
   ],
   "source": [
    "print(ridge.score(test_scaled, test_target))\n",
    "\n",
    "# 테스트 세트 점수 출력\n",
    "# 이전에 비해 과대적합이 완화되어 좋은 성능을 보임"
   ]
  },
  {
   "cell_type": "code",
   "execution_count": 21,
   "id": "518bef44",
   "metadata": {},
   "outputs": [],
   "source": [
    "# 적절한 alpha 값을 찾기 위해 R^2 그래프 그려보기\n",
    "\n",
    "import matplotlib.pyplot as plt\n",
    "\n",
    "train_score = []\n",
    "test_score = []\n",
    "\n",
    "# alpha 값을 바꿀 때마다 score() 메서드의 결과를 저장할 리스트 생성"
   ]
  },
  {
   "cell_type": "code",
   "execution_count": 22,
   "id": "43a6e4bf",
   "metadata": {},
   "outputs": [],
   "source": [
    "# 0.001 ~ 100까지 10배씩 늘려가며 릿지 회귀 모델 훈련\n",
    "alpha_list = [0.001, 0.01, 0.1, 1, 10, 100]\n",
    "\n",
    "for alpha in alpha_list:\n",
    "    # 릿지 모델 생성\n",
    "    ridge = Ridge(alpha = alpha)\n",
    "    \n",
    "    # 릿지 모델 훈련\n",
    "    ridge.fit(train_scaled, train_target)\n",
    "    \n",
    "    # 훈련 점수와 테스트 점수를 저장\n",
    "    train_score.append(ridge.score(train_scaled, train_target))\n",
    "    test_score.append(ridge.score(test_scaled, test_target))"
   ]
  },
  {
   "cell_type": "code",
   "execution_count": 23,
   "id": "1ab8595d",
   "metadata": {},
   "outputs": [
    {
     "data": {
      "image/png": "[encoded data removed]",
      "text/plain": [
       "<Figure size 640x480 with 1 Axes>"
      ]
     },
     "metadata": {},
     "output_type": "display_data"
    }
   ],
   "source": [
    "# alpha_list에 있는 6개의 값을 동일한 간격으로 나타내기 위해, 로그함수로 바꾸어 지수로 표현\n",
    "plt.plot(np.log10(alpha_list), train_score)\n",
    "plt.plot(np.log10(alpha_list), test_score)\n",
    "plt.xlabel(\"alpha\")\n",
    "plt.ylabel(\"R^2\")\n",
    "plt.show()"
   ]
  },
  {
   "cell_type": "code",
   "execution_count": 24,
   "id": "7cd2a26d",
   "metadata": {},
   "outputs": [
    {
     "name": "stdout",
     "output_type": "stream",
     "text": [
      "0.9903815817570368\n",
      "0.9827976465386896\n"
     ]
    }
   ],
   "source": [
    "# 적절한 alpha 값은 두 그래프가 가장 가깝고 테스트 점수가 높은 -1\n",
    "ridge = Ridge(alpha = 0.1)\n",
    "ridge.fit(train_scaled, train_target)\n",
    "\n",
    "# 훈련 세트와 테스트 세트 점수 출력\n",
    "print(ridge.score(train_scaled, train_target))\n",
    "print(ridge.score(test_scaled, test_target))"
   ]
  },
  {
   "cell_type": "code",
   "execution_count": 25,
   "id": "76e83f47",
   "metadata": {},
   "outputs": [
    {
     "name": "stdout",
     "output_type": "stream",
     "text": [
      "0.989789897208096\n"
     ]
    }
   ],
   "source": [
    "# Lasso import\n",
    "from sklearn.linear_model import Lasso\n",
    "\n",
    "# 인스턴스 생성\n",
    "lasso = Lasso()\n",
    "\n",
    "# 모델 훈련\n",
    "lasso.fit(train_scaled, train_target)\n",
    "\n",
    "# 훈련 세트 점수 출력\n",
    "print(lasso.score(train_scaled, train_target))"
   ]
  },
  {
   "cell_type": "code",
   "execution_count": 26,
   "id": "5497aa77",
   "metadata": {},
   "outputs": [
    {
     "name": "stdout",
     "output_type": "stream",
     "text": [
      "0.9800593698421884\n"
     ]
    }
   ],
   "source": [
    "# 테스트 세트 점수 출력\n",
    "print(lasso.score(test_scaled, test_target))"
   ]
  },
  {
   "cell_type": "code",
   "execution_count": 27,
   "id": "1a8ceb28",
   "metadata": {},
   "outputs": [
    {
     "name": "stderr",
     "output_type": "stream",
     "text": [
      "C:\\Users\\kejh6\\anaconda3\\lib\\site-packages\\sklearn\\linear_model\\_coordinate_descent.py:631: ConvergenceWarning: Objective did not converge. You might want to increase the number of iterations, check the scale of the features or consider increasing regularisation. Duality gap: 1.878e+04, tolerance: 5.183e+02\n",
      "  model = cd_fast.enet_coordinate_descent(\n",
      "C:\\Users\\kejh6\\anaconda3\\lib\\site-packages\\sklearn\\linear_model\\_coordinate_descent.py:631: ConvergenceWarning: Objective did not converge. You might want to increase the number of iterations, check the scale of the features or consider increasing regularisation. Duality gap: 1.297e+04, tolerance: 5.183e+02\n",
      "  model = cd_fast.enet_coordinate_descent(\n"
     ]
    }
   ],
   "source": [
    "train_score = []\n",
    "test_score = []\n",
    "\n",
    "alpha_list = [0.001, 0.01, 0.1, 1, 10, 100]\n",
    "\n",
    "for alpha in alpha_list:\n",
    "    # 라쏘 모델 생성\n",
    "    lasso = Lasso(alpha = alpha, max_iter = 10000)\n",
    "    \n",
    "    # 라쏘 모델 훈련\n",
    "    lasso.fit(train_scaled, train_target)\n",
    "    \n",
    "    # 훈련 점수와 테스트 점수를 저장\n",
    "    train_score.append(lasso.score(train_scaled, train_target))\n",
    "    test_score.append(lasso.score(test_scaled, test_target))\n",
    "\n",
    "# 경고가 뜬다면?\n",
    "# 사이킷런의 라쏘 모델을 최적의 계수를 찾기 위해 반복적인 계산을 수행하는데, 지정한 반복횟수가 부족할 때 이런 경고가 발생"
   ]
  },
  {
   "cell_type": "code",
   "execution_count": 28,
   "id": "5fba15bd",
   "metadata": {},
   "outputs": [
    {
     "data": {
      "image/png": "[encoded data removed]",
      "text/plain": [
       "<Figure size 640x480 with 1 Axes>"
      ]
     },
     "metadata": {},
     "output_type": "display_data"
    }
   ],
   "source": [
    "# alpha_list에 있는 6개의 값을 동일한 간격으로 나타내기 위해, 로그함수로 바꾸어 지수로 표현\n",
    "plt.plot(np.log10(alpha_list), train_score)\n",
    "plt.plot(np.log10(alpha_list), test_score)\n",
    "plt.xlabel(\"alpha\")\n",
    "plt.ylabel(\"R^2\")\n",
    "plt.show()"
   ]
  },
  {
   "cell_type": "code",
   "execution_count": 29,
   "id": "a29326a8",
   "metadata": {},
   "outputs": [
    {
     "name": "stdout",
     "output_type": "stream",
     "text": [
      "0.9888067471131867\n",
      "0.9824470598706695\n"
     ]
    }
   ],
   "source": [
    "# 적절한 alpha 값은 두 그래프가 가장 가깝고 테스트 점수가 높은 1\n",
    "lasso = Lasso(alpha = 10)\n",
    "lasso.fit(train_scaled, train_target)\n",
    "\n",
    "# 훈련 세트와 테스트 세트 점수 출력\n",
    "print(lasso.score(train_scaled, train_target))\n",
    "print(lasso.score(test_scaled, test_target))"
   ]
  },
  {
   "cell_type": "code",
   "execution_count": 30,
   "id": "dd9428dd",
   "metadata": {},
   "outputs": [
    {
     "name": "stdout",
     "output_type": "stream",
     "text": [
      "40\n"
     ]
    }
   ],
   "source": [
    "# 라쏘 모델은 계수 값을 0으로도 만들 수 있음\n",
    "# 55개 중 40개의 계수가 0\n",
    "print(np.sum(lasso.coef_ == 0))\n",
    "\n",
    "# 라쏘 모델이 사용한 특성은 15개 뿐 -> 라쏘는 유용한 특성을 골라내는 용도로 사용"
   ]
  },
  {
   "cell_type": "markdown",
   "id": "bca784d1",
   "metadata": {},
   "source": [
    "## 로지스틱 회귀\n",
    "* 럭키백에 들어간 생선의 크기, 무게 등이 주어졌을 때, 7개 생선에 대한 확률을 출력해야 함\n",
    "* 길이, 높이, 두께 외에도 대각선 길이와 무게도 사용 가능"
   ]
  },
  {
   "cell_type": "code",
   "execution_count": 31,
   "id": "7e494c6c",
   "metadata": {},
   "outputs": [
    {
     "data": {
      "text/html": [
       "<div>\n",
       "<style scoped>\n",
       "    .dataframe tbody tr th:only-of-type {\n",
       "        vertical-align: middle;\n",
       "    }\n",
       "\n",
       "    .dataframe tbody tr th {\n",
       "        vertical-align: top;\n",
       "    }\n",
       "\n",
       "    .dataframe thead th {\n",
       "        text-align: right;\n",
       "    }\n",
       "</style>\n",
       "<table border=\"1\" class=\"dataframe\">\n",
       "  <thead>\n",
       "    <tr style=\"text-align: right;\">\n",
       "      <th></th>\n",
       "      <th>Species</th>\n",
       "      <th>Weight</th>\n",
       "      <th>Length</th>\n",
       "      <th>Diagonal</th>\n",
       "      <th>Height</th>\n",
       "      <th>Width</th>\n",
       "    </tr>\n",
       "  </thead>\n",
       "  <tbody>\n",
       "    <tr>\n",
       "      <th>0</th>\n",
       "      <td>Bream</td>\n",
       "      <td>242.0</td>\n",
       "      <td>25.4</td>\n",
       "      <td>30.0</td>\n",
       "      <td>11.5200</td>\n",
       "      <td>4.0200</td>\n",
       "    </tr>\n",
       "    <tr>\n",
       "      <th>1</th>\n",
       "      <td>Bream</td>\n",
       "      <td>290.0</td>\n",
       "      <td>26.3</td>\n",
       "      <td>31.2</td>\n",
       "      <td>12.4800</td>\n",
       "      <td>4.3056</td>\n",
       "    </tr>\n",
       "    <tr>\n",
       "      <th>2</th>\n",
       "      <td>Bream</td>\n",
       "      <td>340.0</td>\n",
       "      <td>26.5</td>\n",
       "      <td>31.1</td>\n",
       "      <td>12.3778</td>\n",
       "      <td>4.6961</td>\n",
       "    </tr>\n",
       "    <tr>\n",
       "      <th>3</th>\n",
       "      <td>Bream</td>\n",
       "      <td>363.0</td>\n",
       "      <td>29.0</td>\n",
       "      <td>33.5</td>\n",
       "      <td>12.7300</td>\n",
       "      <td>4.4555</td>\n",
       "    </tr>\n",
       "    <tr>\n",
       "      <th>4</th>\n",
       "      <td>Bream</td>\n",
       "      <td>430.0</td>\n",
       "      <td>29.0</td>\n",
       "      <td>34.0</td>\n",
       "      <td>12.4440</td>\n",
       "      <td>5.1340</td>\n",
       "    </tr>\n",
       "  </tbody>\n",
       "</table>\n",
       "</div>"
      ],
      "text/plain": [
       "  Species  Weight  Length  Diagonal   Height   Width\n",
       "0   Bream   242.0    25.4      30.0  11.5200  4.0200\n",
       "1   Bream   290.0    26.3      31.2  12.4800  4.3056\n",
       "2   Bream   340.0    26.5      31.1  12.3778  4.6961\n",
       "3   Bream   363.0    29.0      33.5  12.7300  4.4555\n",
       "4   Bream   430.0    29.0      34.0  12.4440  5.1340"
      ]
     },
     "execution_count": 31,
     "metadata": {},
     "output_type": "execute_result"
    }
   ],
   "source": [
    "import pandas as pd\n",
    "\n",
    "# 인터넷에서 csv 파일을 읽음\n",
    "fish = pd.read_csv(\"https://bit.ly/fish_csv_data\")\n",
    "\n",
    "# 5개 행 출력\n",
    "fish.head()"
   ]
  },
  {
   "cell_type": "code",
   "execution_count": 32,
   "id": "992bb802",
   "metadata": {},
   "outputs": [
    {
     "name": "stdout",
     "output_type": "stream",
     "text": [
      "['Bream' 'Roach' 'Whitefish' 'Parkki' 'Perch' 'Pike' 'Smelt']\n"
     ]
    }
   ],
   "source": [
    "# Species 열에서 고유한 값 출력\n",
    "print(pd.unique(fish[\"Species\"]))"
   ]
  },
  {
   "cell_type": "code",
   "execution_count": 33,
   "id": "1068a98b",
   "metadata": {},
   "outputs": [],
   "source": [
    "# Species를 제외한 5개 열을 입력 데이터로 사용\n",
    "fish_input = fish[[\"Weight\", \"Length\", \"Diagonal\", \"Height\", \"Width\"]].to_numpy()"
   ]
  },
  {
   "cell_type": "code",
   "execution_count": 34,
   "id": "ec35a75d",
   "metadata": {},
   "outputs": [
    {
     "name": "stdout",
     "output_type": "stream",
     "text": [
      "[[242.      25.4     30.      11.52     4.02  ]\n",
      " [290.      26.3     31.2     12.48     4.3056]\n",
      " [340.      26.5     31.1     12.3778   4.6961]\n",
      " [363.      29.      33.5     12.73     4.4555]\n",
      " [430.      29.      34.      12.444    5.134 ]]\n"
     ]
    }
   ],
   "source": [
    "# fish_input의 5개 행 출력\n",
    "print(fish_input[:5])"
   ]
  },
  {
   "cell_type": "code",
   "execution_count": 35,
   "id": "50b08f9c",
   "metadata": {},
   "outputs": [],
   "source": [
    "# Species 열을 타깃으로 사용\n",
    "fish_target = fish[\"Species\"].to_numpy()"
   ]
  },
  {
   "cell_type": "code",
   "execution_count": 36,
   "id": "95fb756a",
   "metadata": {},
   "outputs": [],
   "source": [
    "from sklearn.model_selection import train_test_split\n",
    "\n",
    "# 훈련 세트와 테스트 세트 나눔\n",
    "train_input, test_input, train_target, test_target = train_test_split(fish_input, fish_target, random_state = 42)"
   ]
  },
  {
   "cell_type": "code",
   "execution_count": 37,
   "id": "f92d6173",
   "metadata": {},
   "outputs": [],
   "source": [
    "# StandardScaler 클래스를 통해 훈련 세트, 테스트 세트 표준화 전처리\n",
    "from sklearn.preprocessing import StandardScaler\n",
    "\n",
    "# 인스턴스 생성\n",
    "ss = StandardScaler()\n",
    "\n",
    "# 모델 훈련\n",
    "ss.fit(train_input)\n",
    "\n",
    "# 훈련 세트 변환\n",
    "train_scaled = ss.transform(train_input)\n",
    "\n",
    "# 테스트 세트 변환\n",
    "test_scaled = ss.transform(test_input)"
   ]
  },
  {
   "cell_type": "code",
   "execution_count": 38,
   "id": "6bbd8172",
   "metadata": {},
   "outputs": [
    {
     "name": "stdout",
     "output_type": "stream",
     "text": [
      "['A' 'C']\n"
     ]
    }
   ],
   "source": [
    "char_arr = np.array(['A', 'B', 'C', 'D', 'E'])\n",
    "\n",
    "# True인 index 위치의 값만 출력\n",
    "# 불리언 인덱싱\n",
    "print(char_arr[[True, False, True, False, False]])"
   ]
  },
  {
   "cell_type": "code",
   "execution_count": 39,
   "id": "04bbec37",
   "metadata": {},
   "outputs": [],
   "source": [
    "# bream_smelt_indexes 배열은 훈련 세트 중 'Bream'과 'Smelt'일 때 True 값 할당 이외는 False\n",
    "bream_smelt_indexes = (train_target == \"Bream\") |  (train_target == \"Smelt\")\n",
    "\n",
    "# train_scaled 배열에 불리언(True or False) 인덱싱 적용\n",
    "train_bream_smelt = train_scaled[bream_smelt_indexes]\n",
    "\n",
    "# train_target 배열에 불리언(True or False) 인덱싱 적용\n",
    "target_bream_smelt = train_target[bream_smelt_indexes]"
   ]
  },
  {
   "cell_type": "code",
   "execution_count": 40,
   "id": "a7462841",
   "metadata": {},
   "outputs": [
    {
     "data": {
      "text/html": [
       "<style>#sk-container-id-1 {color: black;background-color: white;}#sk-container-id-1 pre{padding: 0;}#sk-container-id-1 div.sk-toggleable {background-color: white;}#sk-container-id-1 label.sk-toggleable__label {cursor: pointer;display: block;width: 100%;margin-bottom: 0;padding: 0.3em;box-sizing: border-box;text-align: center;}#sk-container-id-1 label.sk-toggleable__label-arrow:before {content: \"▸\";float: left;margin-right: 0.25em;color: #696969;}#sk-container-id-1 label.sk-toggleable__label-arrow:hover:before {color: black;}#sk-container-id-1 div.sk-estimator:hover label.sk-toggleable__label-arrow:before {color: black;}#sk-container-id-1 div.sk-toggleable__content {max-height: 0;max-width: 0;overflow: hidden;text-align: left;background-color: #f0f8ff;}#sk-container-id-1 div.sk-toggleable__content pre {margin: 0.2em;color: black;border-radius: 0.25em;background-color: #f0f8ff;}#sk-container-id-1 input.sk-toggleable__control:checked~div.sk-toggleable__content {max-height: 200px;max-width: 100%;overflow: auto;}#sk-container-id-1 input.sk-toggleable__control:checked~label.sk-toggleable__label-arrow:before {content: \"▾\";}#sk-container-id-1 div.sk-estimator input.sk-toggleable__control:checked~label.sk-toggleable__label {background-color: #d4ebff;}#sk-container-id-1 div.sk-label input.sk-toggleable__control:checked~label.sk-toggleable__label {background-color: #d4ebff;}#sk-container-id-1 input.sk-hidden--visually {border: 0;clip: rect(1px 1px 1px 1px);clip: rect(1px, 1px, 1px, 1px);height: 1px;margin: -1px;overflow: hidden;padding: 0;position: absolute;width: 1px;}#sk-container-id-1 div.sk-estimator {font-family: monospace;background-color: #f0f8ff;border: 1px dotted black;border-radius: 0.25em;box-sizing: border-box;margin-bottom: 0.5em;}#sk-container-id-1 div.sk-estimator:hover {background-color: #d4ebff;}#sk-container-id-1 div.sk-parallel-item::after {content: \"\";width: 100%;border-bottom: 1px solid gray;flex-grow: 1;}#sk-container-id-1 div.sk-label:hover label.sk-toggleable__label {background-color: #d4ebff;}#sk-container-id-1 div.sk-serial::before {content: \"\";position: absolute;border-left: 1px solid gray;box-sizing: border-box;top: 0;bottom: 0;left: 50%;z-index: 0;}#sk-container-id-1 div.sk-serial {display: flex;flex-direction: column;align-items: center;background-color: white;padding-right: 0.2em;padding-left: 0.2em;position: relative;}#sk-container-id-1 div.sk-item {position: relative;z-index: 1;}#sk-container-id-1 div.sk-parallel {display: flex;align-items: stretch;justify-content: center;background-color: white;position: relative;}#sk-container-id-1 div.sk-item::before, #sk-container-id-1 div.sk-parallel-item::before {content: \"\";position: absolute;border-left: 1px solid gray;box-sizing: border-box;top: 0;bottom: 0;left: 50%;z-index: -1;}#sk-container-id-1 div.sk-parallel-item {display: flex;flex-direction: column;z-index: 1;position: relative;background-color: white;}#sk-container-id-1 div.sk-parallel-item:first-child::after {align-self: flex-end;width: 50%;}#sk-container-id-1 div.sk-parallel-item:last-child::after {align-self: flex-start;width: 50%;}#sk-container-id-1 div.sk-parallel-item:only-child::after {width: 0;}#sk-container-id-1 div.sk-dashed-wrapped {border: 1px dashed gray;margin: 0 0.4em 0.5em 0.4em;box-sizing: border-box;padding-bottom: 0.4em;background-color: white;}#sk-container-id-1 div.sk-label label {font-family: monospace;font-weight: bold;display: inline-block;line-height: 1.2em;}#sk-container-id-1 div.sk-label-container {text-align: center;}#sk-container-id-1 div.sk-container {/* jupyter's `normalize.less` sets `[hidden] { display: none; }` but bootstrap.min.css set `[hidden] { display: none !important; }` so we also need the `!important` here to be able to override the default hidden behavior on the sphinx rendered scikit-learn.org. See: https://github.com/scikit-learn/scikit-learn/issues/21755 */display: inline-block !important;position: relative;}#sk-container-id-1 div.sk-text-repr-fallback {display: none;}</style><div id=\"sk-container-id-1\" class=\"sk-top-container\"><div class=\"sk-text-repr-fallback\"><pre>LogisticRegression()</pre><b>In a Jupyter environment, please rerun this cell to show the HTML representation or trust the notebook. <br />On GitHub, the HTML representation is unable to render, please try loading this page with nbviewer.org.</b></div><div class=\"sk-container\" hidden><div class=\"sk-item\"><div class=\"sk-estimator sk-toggleable\"><input class=\"sk-toggleable__control sk-hidden--visually\" id=\"sk-estimator-id-1\" type=\"checkbox\" checked><label for=\"sk-estimator-id-1\" class=\"sk-toggleable__label sk-toggleable__label-arrow\">LogisticRegression</label><div class=\"sk-toggleable__content\"><pre>LogisticRegression()</pre></div></div></div></div></div>"
      ],
      "text/plain": [
       "LogisticRegression()"
      ]
     },
     "execution_count": 40,
     "metadata": {},
     "output_type": "execute_result"
    }
   ],
   "source": [
    "# LogisticRegression 클래스 import\n",
    "from sklearn.linear_model import LogisticRegression\n",
    "\n",
    "# 객체 생성\n",
    "lr = LogisticRegression()\n",
    "\n",
    "# 모델 훈련\n",
    "lr.fit(train_bream_smelt, target_bream_smelt)"
   ]
  },
  {
   "cell_type": "code",
   "execution_count": 41,
   "id": "fabdaa22",
   "metadata": {},
   "outputs": [
    {
     "name": "stdout",
     "output_type": "stream",
     "text": [
      "['Bream' 'Smelt' 'Bream' 'Bream' 'Bream']\n"
     ]
    }
   ],
   "source": [
    "# train_bream_smelt의 처음 5개 샘플 출력\n",
    "print(lr.predict(train_bream_smelt[:5]))"
   ]
  },
  {
   "cell_type": "code",
   "execution_count": 42,
   "id": "37dbb29e",
   "metadata": {},
   "outputs": [
    {
     "name": "stdout",
     "output_type": "stream",
     "text": [
      "[[0.99759855 0.00240145]\n",
      " [0.02735183 0.97264817]\n",
      " [0.99486072 0.00513928]\n",
      " [0.98584202 0.01415798]\n",
      " [0.99767269 0.00232731]]\n"
     ]
    }
   ],
   "source": [
    "# predict_proba() 메서드로 처음 5개 샘플의 예측 확률 출력\n",
    "print(lr.predict_proba(train_bream_smelt[:5]))\n",
    "\n",
    "# 첫 번째 열이 음성 클래스(0)에 대한 확률, 두 번째 열이 양성 클래스(1)에 대한 확률"
   ]
  },
  {
   "cell_type": "code",
   "execution_count": 43,
   "id": "c80a8e26",
   "metadata": {},
   "outputs": [
    {
     "name": "stdout",
     "output_type": "stream",
     "text": [
      "['Bream' 'Smelt']\n"
     ]
    }
   ],
   "source": [
    "# 알파벳 순으로 타깃값을 출력\n",
    "print(lr.classes_)\n",
    "\n",
    "# 사이킷런은 타깃값을 알파벳순으로 정렬하여 사용\n",
    "# 두 번쨰 샘플만 양성클래스인 빙어의 확률이 높음\n",
    "# 나머지는 모두 도미로 예측"
   ]
  },
  {
   "cell_type": "code",
   "execution_count": 44,
   "id": "d81b8f17",
   "metadata": {},
   "outputs": [
    {
     "name": "stdout",
     "output_type": "stream",
     "text": [
      "[[-0.4037798  -0.57620209 -0.66280298 -1.01290277 -0.73168947]] [-2.16155132]\n"
     ]
    }
   ],
   "source": [
    "# 로지스틱 회귀가 학습한 계수 출력\n",
    "print(lr.coef_, lr.intercept_)"
   ]
  },
  {
   "cell_type": "code",
   "execution_count": 45,
   "id": "2f512f7b",
   "metadata": {},
   "outputs": [
    {
     "name": "stdout",
     "output_type": "stream",
     "text": [
      "[-6.02927744  3.57123907 -5.26568906 -4.24321775 -6.0607117 ]\n"
     ]
    }
   ],
   "source": [
    "decisions = lr.decision_function(train_bream_smelt[:5])\n",
    "\n",
    "# train_bream_smelt의 처음 5개 샘플의 z값을 출력\n",
    "print(decisions)"
   ]
  },
  {
   "cell_type": "code",
   "execution_count": 46,
   "id": "815f6f11",
   "metadata": {},
   "outputs": [
    {
     "name": "stdout",
     "output_type": "stream",
     "text": [
      "[0.00240145 0.97264817 0.00513928 0.01415798 0.00232731]\n"
     ]
    }
   ],
   "source": [
    "# 시그모이드 함수인 expit import\n",
    "from scipy.special import expit\n",
    "\n",
    "# 시그모이드 함수를 통과한 값을 출력\n",
    "print(expit(decisions))\n",
    "\n",
    "# 이전의 predict_proba() 멧머드의 출력의 두 번째 열의 값과 동일"
   ]
  },
  {
   "cell_type": "markdown",
   "id": "ff33224b",
   "metadata": {},
   "source": [
    "### 다중분류"
   ]
  },
  {
   "cell_type": "code",
   "execution_count": 47,
   "id": "68211357",
   "metadata": {},
   "outputs": [
    {
     "name": "stdout",
     "output_type": "stream",
     "text": [
      "0.9327731092436975\n",
      "0.925\n"
     ]
    }
   ],
   "source": [
    "# max_iter=1000으로 반복횟수를 1,000으로 설정\n",
    "# LogisticRegression에서 규제를 제어하는 매개변수 C\n",
    "# C가 작을수록 규제가 커짐. C이 기본값은 1\n",
    "lr = LogisticRegression(C=20, max_iter = 1000)\n",
    "\n",
    "# 모델 훈련\n",
    "lr.fit(train_scaled, train_target)\n",
    "\n",
    "# 훈련 세트 score 출력\n",
    "print(lr.score(train_scaled, train_target))\n",
    "\n",
    "# 테스트 세트 score 출력\n",
    "print(lr.score(test_scaled, test_target))"
   ]
  },
  {
   "cell_type": "code",
   "execution_count": 48,
   "id": "006f1c29",
   "metadata": {},
   "outputs": [
    {
     "name": "stdout",
     "output_type": "stream",
     "text": [
      "['Perch' 'Smelt' 'Pike' 'Roach' 'Perch']\n"
     ]
    }
   ],
   "source": [
    "# 테스트 세트의 처음 5개 샘플에 대한 예측 출력\n",
    "print(lr.predict(test_scaled[:5]))"
   ]
  },
  {
   "cell_type": "code",
   "execution_count": 49,
   "id": "e675af30",
   "metadata": {},
   "outputs": [
    {
     "name": "stdout",
     "output_type": "stream",
     "text": [
      "[[0.    0.014 0.841 0.    0.136 0.007 0.003]\n",
      " [0.    0.003 0.044 0.    0.007 0.946 0.   ]\n",
      " [0.    0.    0.034 0.935 0.015 0.016 0.   ]\n",
      " [0.011 0.034 0.306 0.007 0.567 0.    0.076]\n",
      " [0.    0.    0.904 0.002 0.089 0.002 0.001]]\n"
     ]
    }
   ],
   "source": [
    "# 테스트 세트의 처음 5개 샘플에 대한 예측 확률\n",
    "proba = lr.predict_proba(test_scaled[:5])\n",
    "\n",
    "# 소수점 3째 자리 유지\n",
    "# 소수점 4째 자리에서 반올림\n",
    "print(np.round(proba, decimals = 3))\n",
    "\n",
    "# 5개 샘플에 대한 예측 -> 5행\n",
    "# 7개 생선에 대한 확률 -> 7열"
   ]
  },
  {
   "cell_type": "code",
   "execution_count": 50,
   "id": "38ce4236",
   "metadata": {},
   "outputs": [
    {
     "name": "stdout",
     "output_type": "stream",
     "text": [
      "['Bream' 'Parkki' 'Perch' 'Pike' 'Roach' 'Smelt' 'Whitefish']\n"
     ]
    }
   ],
   "source": [
    "# 클래스 정보 출력\n",
    "print(lr.classes_)\n",
    "\n",
    "# 첫 번째 샘플은 Perch를 가장 높은 확률로 예측\n",
    "# 두 번째 샘플은 Smelt를 가장 높은 확률로 예측"
   ]
  },
  {
   "cell_type": "code",
   "execution_count": 51,
   "id": "a0923a1d",
   "metadata": {},
   "outputs": [
    {
     "name": "stdout",
     "output_type": "stream",
     "text": [
      "(7, 5) (7,)\n"
     ]
    }
   ],
   "source": [
    "# coef_와 intercept_의 크기 출력\n",
    "# 다중분류는 클래스마다 z값을 계산하므로 7행\n",
    "# 5개의 특성을 사용하므로 5열\n",
    "print(lr.coef_.shape, lr.intercept_.shape)\n",
    "\n",
    "# 이진분류는 sigmoid 함수로 (0, 1) 사이의 값으로 변환\n",
    "# 다중분류는 softmax 함수로 7개 z값을 확률로 변환"
   ]
  },
  {
   "cell_type": "code",
   "execution_count": 52,
   "id": "54e0a24b",
   "metadata": {},
   "outputs": [
    {
     "name": "stdout",
     "output_type": "stream",
     "text": [
      "[[ -6.5    1.03   5.16  -2.73   3.34   0.33  -0.63]\n",
      " [-10.86   1.93   4.77  -2.4    2.98   7.84  -4.26]\n",
      " [ -4.34  -6.23   3.17   6.49   2.36   2.42  -3.87]\n",
      " [ -0.68   0.45   2.65  -1.19   3.26  -5.75   1.26]\n",
      " [ -6.4   -1.99   5.82  -0.11   3.5   -0.11  -0.71]]\n"
     ]
    }
   ],
   "source": [
    "# decision_function() 메서드로 z1~z7까지의 값을 구함\n",
    "decision = lr.decision_function(test_scaled[:5])\n",
    "\n",
    "# 소수점 2째 자리 유지: 소수점 3째 자리에서 반올림\n",
    "# decision_function() 메서드로 z1~z7까지의 값을 구함\n",
    "print(np.round(decision, decimals=2))"
   ]
  },
  {
   "cell_type": "code",
   "execution_count": 53,
   "id": "98a75915",
   "metadata": {},
   "outputs": [
    {
     "name": "stdout",
     "output_type": "stream",
     "text": [
      "[[0.    0.014 0.841 0.    0.136 0.007 0.003]\n",
      " [0.    0.003 0.044 0.    0.007 0.946 0.   ]\n",
      " [0.    0.    0.034 0.935 0.015 0.016 0.   ]\n",
      " [0.011 0.034 0.306 0.007 0.567 0.    0.076]\n",
      " [0.    0.    0.904 0.002 0.089 0.002 0.001]]\n"
     ]
    }
   ],
   "source": [
    "# softmax 함수란, 여러 개의 선형방정식 출력값을 (0, 1) 사이로 압축하고 전체 합이 1이 되도록 만듦 -> 정규화된 지수 함수\n",
    "\n",
    "# softmax import\n",
    "from scipy.special import softmax\n",
    "\n",
    "# 각 샘플에 대해 softmax 계산\n",
    "# axis = 1로 지정하여 각 행, 즉 샘플에 대한 소프트맥스 계산\n",
    "proba = softmax(decision, axis = 1)\n",
    "\n",
    "# 소수점 3째 자리 유지\n",
    "# 소수점 4째 자리에서 반올림\n",
    "print(np.round(proba, decimals = 3))"
   ]
  },
  {
   "cell_type": "markdown",
   "id": "675c67c6",
   "metadata": {},
   "source": [
    "## SGD Classifier"
   ]
  },
  {
   "cell_type": "code",
   "execution_count": 54,
   "id": "c40a941b",
   "metadata": {},
   "outputs": [],
   "source": [
    "import pandas as pd\n",
    "\n",
    "# fish_csv_data 파일에서 데이터프레임화\n",
    "fish = pd.read_csv(\"https://bit.ly/fish_csv_data\")"
   ]
  },
  {
   "cell_type": "code",
   "execution_count": 55,
   "id": "6bcd35e0",
   "metadata": {},
   "outputs": [],
   "source": [
    "# Species를 제외한 나머지 5개는 입력 데이터로 사용\n",
    "fish_input = fish[[\"Weight\", \"Length\", \"Diagonal\", \"Height\", \"Width\"]].to_numpy()\n",
    "\n",
    "# Species 열을 타깃 데이터로 사용\n",
    "fish_target = fish[\"Species\"].to_numpy()"
   ]
  },
  {
   "cell_type": "code",
   "execution_count": 56,
   "id": "e233a586",
   "metadata": {},
   "outputs": [],
   "source": [
    "from sklearn.model_selection import train_test_split\n",
    "\n",
    "# 훈련 세트와 테스트 세트 나눔\n",
    "train_input, test_input, train_target, test_target = train_test_split(fish_input, fish_target, random_state = 42)"
   ]
  },
  {
   "cell_type": "code",
   "execution_count": 57,
   "id": "4f2a55f5",
   "metadata": {},
   "outputs": [],
   "source": [
    "# StandardScaler 클래스를 통해 훈련 세트, 테스트 세트 표준화 전처리\n",
    "from sklearn.preprocessing import StandardScaler\n",
    "\n",
    "# 인스턴스 생성\n",
    "ss = StandardScaler()\n",
    "\n",
    "# 모델 훈련\n",
    "ss.fit(train_input)\n",
    "\n",
    "# 훈련 세트 변환\n",
    "train_scaled = ss.transform(train_input)\n",
    "\n",
    "# 테스트 세트 변환\n",
    "test_scaled = ss.transform(test_input)"
   ]
  },
  {
   "cell_type": "code",
   "execution_count": 58,
   "id": "6f86413d",
   "metadata": {},
   "outputs": [],
   "source": [
    "# SGDClassifier 클래스 import\n",
    "from sklearn.linear_model import SGDClassifier"
   ]
  },
  {
   "cell_type": "code",
   "execution_count": 59,
   "id": "9a0bba65",
   "metadata": {},
   "outputs": [
    {
     "name": "stdout",
     "output_type": "stream",
     "text": [
      "0.773109243697479\n",
      "0.775\n"
     ]
    },
    {
     "name": "stderr",
     "output_type": "stream",
     "text": [
      "C:\\Users\\kejh6\\anaconda3\\lib\\site-packages\\sklearn\\linear_model\\_stochastic_gradient.py:163: FutureWarning: The loss 'log' was deprecated in v1.1 and will be removed in version 1.3. Use `loss='log_loss'` which is equivalent.\n",
      "  warnings.warn(\n",
      "C:\\Users\\kejh6\\anaconda3\\lib\\site-packages\\sklearn\\linear_model\\_stochastic_gradient.py:702: ConvergenceWarning: Maximum number of iteration reached before convergence. Consider increasing max_iter to improve the fit.\n",
      "  warnings.warn(\n"
     ]
    }
   ],
   "source": [
    "# 객체를 생성하면서, 손실함수로 'log' (로지스틱 손실함수)\n",
    "# max_iter = 10으로 에포크 횟수를 10으로 설정\n",
    "sc = SGDClassifier(loss = 'log', max_iter = 10, random_state = 42)\n",
    "\n",
    "# 모델 훈련\n",
    "sc.fit(train_scaled, train_target)\n",
    "\n",
    "# 훈련 세트 score 출력\n",
    "print(sc.score(train_scaled, train_target))\n",
    "\n",
    "# 테스트 세트 score 출력\n",
    "print(sc.score(test_scaled, test_target))\n",
    "\n",
    "# 반복횟수 10번이 부족하여 경고가 나타남"
   ]
  },
  {
   "cell_type": "code",
   "execution_count": 60,
   "id": "9b089077",
   "metadata": {},
   "outputs": [
    {
     "name": "stdout",
     "output_type": "stream",
     "text": [
      "0.8151260504201681\n",
      "0.85\n"
     ]
    }
   ],
   "source": [
    "# partial_fit() 메서드를 통해 점진적 학습 진행\n",
    "sc.partial_fit(train_scaled, train_target)\n",
    "\n",
    "# 훈련 세트 score 출력\n",
    "print(sc.score(train_scaled, train_target))\n",
    "\n",
    "# 테스트 세트 score 출력\n",
    "print(sc.score(test_scaled, test_target))\n",
    "\n",
    "# 모델 sc를 추가로 더 훈련. 모델을 이어서 훈련시에는 partial_fit() 메서드 이용. 호출할 때마다 1에포크씩 이어서 훈련.\n",
    "# 아직 점수가 낮지만 정확도 향상 -> 얼마나 더 훈련해야 할까?"
   ]
  },
  {
   "cell_type": "code",
   "execution_count": 61,
   "id": "10796855",
   "metadata": {},
   "outputs": [],
   "source": [
    "import numpy as np\n",
    "\n",
    "# 객체를 생성하면서, 손실함수로 'log' (로지스틱 손실 함수)\n",
    "sc = SGDClassifier(loss = \"log\", random_state = 42)\n",
    "\n",
    "# 훈련 세트 점수를 저장할 리스트 생성\n",
    "train_score = []\n",
    "\n",
    "# 테스트 세트를 저장할 리스트 생성\n",
    "test_score = []\n",
    "\n",
    "# train_target에 있는 7개 생선의 목록 생성\n",
    "classes = np.unique(train_target)"
   ]
  },
  {
   "cell_type": "code",
   "execution_count": 62,
   "id": "416f508c",
   "metadata": {},
   "outputs": [
    {
     "name": "stderr",
     "output_type": "stream",
     "text": [
      "C:\\Users\\kejh6\\anaconda3\\lib\\site-packages\\sklearn\\linear_model\\_stochastic_gradient.py:163: FutureWarning: The loss 'log' was deprecated in v1.1 and will be removed in version 1.3. Use `loss='log_loss'` which is equivalent.\n",
      "  warnings.warn(\n"
     ]
    }
   ],
   "source": [
    "# 300번의 에포크 동안 훈련 반복\n",
    "for _ in range(0, 300):\n",
    "    sc.partial_fit(train_scaled, train_target, classes = classes)\n",
    "    \n",
    "    # 반복 당 훈련 세트 점수를 train_score 리스트에 추가\n",
    "    train_score.append(sc.score(train_scaled, train_target))\n",
    "    \n",
    "    # 반복 당 테스트 세트 점수를 test_score 리스트에 추가\n",
    "    test_score.append(sc.score(test_scaled, test_target))"
   ]
  },
  {
   "cell_type": "code",
   "execution_count": 63,
   "id": "b3405f3f",
   "metadata": {},
   "outputs": [
    {
     "data": {
      "image/png": "[encoded data removed]",
      "text/plain": [
       "<Figure size 640x480 with 1 Axes>"
      ]
     },
     "metadata": {},
     "output_type": "display_data"
    }
   ],
   "source": [
    "import matplotlib.pyplot as plt\n",
    "\n",
    "plt.plot(train_score)\n",
    "plt.plot(test_score)\n",
    "plt.xlabel(\"epoch\")\n",
    "plt.ylabel(\"accuracy\")\n",
    "plt.show()\n",
    "\n",
    "# 백 번째 에포크 이후에는 훈련 세트와 테스트 세트의 점수가 조금씩 벌어지고 있음\n",
    "# 에포크 초기에는 과소적합되어 훈련 세트와 테스트 세트의 점수가 낮음\n",
    "# 이 모델의 경우 백 번째 에포크가 적절한 반복 횟수"
   ]
  },
  {
   "cell_type": "code",
   "execution_count": 64,
   "id": "1f195a75",
   "metadata": {},
   "outputs": [
    {
     "name": "stdout",
     "output_type": "stream",
     "text": [
      "0.957983193277311\n",
      "0.925\n"
     ]
    },
    {
     "name": "stderr",
     "output_type": "stream",
     "text": [
      "C:\\Users\\kejh6\\anaconda3\\lib\\site-packages\\sklearn\\linear_model\\_stochastic_gradient.py:163: FutureWarning: The loss 'log' was deprecated in v1.1 and will be removed in version 1.3. Use `loss='log_loss'` which is equivalent.\n",
      "  warnings.warn(\n"
     ]
    }
   ],
   "source": [
    "# 객체를 생성하면서 반복 횟수를 100으로 설정\n",
    "# tol = None으로 지정하여 자동으로 멈추지 않음\n",
    "sc = SGDClassifier(loss = \"log\", max_iter = 100, tol = None, random_state = 42)\n",
    "\n",
    "# 모델 학습\n",
    "sc.fit(train_scaled, train_target)\n",
    "\n",
    "# 훈련 세트 score 출력\n",
    "print(sc.score(train_scaled, train_target))\n",
    "\n",
    "# 테스트 세트 score 출력\n",
    "print(sc.score(test_scaled, test_target))"
   ]
  },
  {
   "cell_type": "code",
   "execution_count": 65,
   "id": "f5aa4b86",
   "metadata": {},
   "outputs": [
    {
     "name": "stdout",
     "output_type": "stream",
     "text": [
      "0.9495798319327731\n",
      "0.925\n"
     ]
    }
   ],
   "source": [
    "# 객체를 생성하면서 손실함수로 'hinge'\n",
    "# loss 매개변수의 기본값은 hinge. 힌지 손실은 SVM을 위한 소실함수 -> 이 값을 이용하면, SVM 방식으로 분류\n",
    "sc = SGDClassifier(loss = \"hinge\", max_iter = 100, tol = None, random_state = 42)\n",
    "\n",
    "# 모델 학습\n",
    "sc.fit(train_scaled, train_target)\n",
    "\n",
    "# 훈련 세트 score 출력\n",
    "print(sc.score(train_scaled, train_target))\n",
    "\n",
    "# 테스트 세트 score 출력\n",
    "print(sc.score(test_scaled, test_target))"
   ]
  },
  {
   "cell_type": "markdown",
   "id": "b48bde0a",
   "metadata": {},
   "source": [
    "## 나이브 베이즈\n",
    "* sklearn의 Twenty Newsgroups이라는 18,846개의 뉴스 그룹 데이터 사용\n",
    "* 해당 데이터는 train 11,314개, test 7,532개로 분류되어 있음\n",
    "* Data Download: subset = \"all\", \"train\", \"test\""
   ]
  },
  {
   "cell_type": "code",
   "execution_count": 66,
   "id": "5d5b42a7",
   "metadata": {},
   "outputs": [
    {
     "name": "stdout",
     "output_type": "stream",
     "text": [
      "dict_keys(['data', 'filenames', 'target_names', 'target', 'DESCR'])\n",
      "11314 11314 20 11314\n"
     ]
    }
   ],
   "source": [
    "from sklearn.datasets import fetch_20newsgroups\n",
    "\n",
    "newsdata = fetch_20newsgroups(subset=\"train\")\n",
    "print(newsdata.keys())\n",
    "print(len(newsdata.data), len(newsdata.filenames), len(newsdata.target_names), len(newsdata.target))"
   ]
  },
  {
   "cell_type": "code",
   "execution_count": 67,
   "id": "d647ee4f",
   "metadata": {},
   "outputs": [
    {
     "name": "stdout",
     "output_type": "stream",
     "text": [
      "['alt.atheism', 'comp.graphics', 'comp.os.ms-windows.misc', 'comp.sys.ibm.pc.hardware', 'comp.sys.mac.hardware', 'comp.windows.x', 'misc.forsale', 'rec.autos', 'rec.motorcycles', 'rec.sport.baseball', 'rec.sport.hockey', 'sci.crypt', 'sci.electronics', 'sci.med', 'sci.space', 'soc.religion.christian', 'talk.politics.guns', 'talk.politics.mideast', 'talk.politics.misc', 'talk.religion.misc']\n"
     ]
    }
   ],
   "source": [
    "# 20개의 카테고리 이름 출력\n",
    "print(newsdata.target_names)"
   ]
  },
  {
   "cell_type": "code",
   "execution_count": 68,
   "id": "c051e1b8",
   "metadata": {},
   "outputs": [
    {
     "name": "stdout",
     "output_type": "stream",
     "text": [
      "7\n"
     ]
    }
   ],
   "source": [
    "# 첫 번째 샘플에 대하여 7번 카테고리에 속하는 데이터임을 확인\n",
    "print(newsdata.target[0])"
   ]
  },
  {
   "cell_type": "code",
   "execution_count": 69,
   "id": "beb9b7cb",
   "metadata": {},
   "outputs": [
    {
     "name": "stdout",
     "output_type": "stream",
     "text": [
      "rec.autos\n"
     ]
    }
   ],
   "source": [
    "# 7번 카테고리 이름은 'rec.autos'\n",
    "print(newsdata.target_names[7])"
   ]
  },
  {
   "cell_type": "code",
   "execution_count": 70,
   "id": "df9b01ff",
   "metadata": {},
   "outputs": [
    {
     "name": "stdout",
     "output_type": "stream",
     "text": [
      "From: lerxst@wam.umd.edu (where's my thing)\n",
      "Subject: WHAT car is this!?\n",
      "Nntp-Posting-Host: rac3.wam.umd.edu\n",
      "Organization: University of Maryland, College Park\n",
      "Lines: 15\n",
      "\n",
      " I was wondering if anyone out there could enlighten me on this car I saw\n",
      "the other day. It was a 2-door sports car, looked to be from the late 60s/\n",
      "early 70s. It was called a Bricklin. The doors were really small. In addition,\n",
      "the front bumper was separate from the rest of the body. This is \n",
      "all I know. If anyone can tellme a model name, engine specs, years\n",
      "of production, where this car is made, history, or whatever info you\n",
      "have on this funky looking car, please e-mail.\n",
      "\n",
      "Thanks,\n",
      "- IL\n",
      "   ---- brought to you by your neighborhood Lerxst ----\n",
      "\n",
      "\n",
      "\n",
      "\n",
      "\n"
     ]
    }
   ],
   "source": [
    "# 첫 번째 샘플 데이터를 출력하여 내용 확인\n",
    "# 스포츠카에 대한 설명\n",
    "print(newsdata.data[0])"
   ]
  },
  {
   "cell_type": "code",
   "execution_count": 71,
   "id": "091f14b8",
   "metadata": {},
   "outputs": [
    {
     "name": "stdout",
     "output_type": "stream",
     "text": [
      "(11314, 130107)\n"
     ]
    }
   ],
   "source": [
    "# 텍스트 데이터를 BoW로 만드는 CountVectorizer 라이브러리 사용\n",
    "# 단어의 순서를 고려하지 않고, 문서 내에 단어의 등장 횟수를 고려하여 BoW vector 생성\n",
    "# 각 단어에 index 지정 후, 각 단어의 등장 횟수를 index에 맞게 배치\n",
    "from sklearn.feature_extraction.text import CountVectorizer\n",
    "from sklearn.feature_extraction.text import TfidfTransformer\n",
    "from sklearn.naive_bayes import MultinomialNB\n",
    "from sklearn.metrics import accuracy_score\n",
    "\n",
    "dtmvector = CountVectorizer()\n",
    "X_train_dtm = dtmvector.fit_transform(newsdata.data)\n",
    "print(X_train_dtm.shape)\n",
    "\n",
    "# 11,314는 train dataset 개수, 130,107은 전체 훈련 데이터에 등장한 단어 수"
   ]
  },
  {
   "cell_type": "code",
   "execution_count": 72,
   "id": "06b8a4b1",
   "metadata": {},
   "outputs": [
    {
     "name": "stdout",
     "output_type": "stream",
     "text": [
      "(11314, 130107)\n"
     ]
    }
   ],
   "source": [
    "# TF-IDF(Term Frequency-Inverse Document Frequency)는 단어의 빈도와 역 문서 빈도의 값을 사용하여 단어들마다 중요한 가중치를 주는 방식\n",
    "# TF: 특정 문서 d에서 특정 단어 t의 등장 횟수\n",
    "# DF: 특정 단서 t가 등장한 문서의 수 -> IDF: DF의 반비례 값\n",
    "from sklearn.feature_extraction.text import TfidfVectorizer\n",
    "\n",
    "tfidfvector = TfidfVectorizer()\n",
    "X_train_tfidf = tfidfvector.fit_transform(newsdata.data)\n",
    "print(X_train_tfidf.shape)"
   ]
  },
  {
   "cell_type": "code",
   "execution_count": 73,
   "id": "19de40c0",
   "metadata": {},
   "outputs": [
    {
     "name": "stdout",
     "output_type": "stream",
     "text": [
      "Accuracy:  0.7738980350504514\n"
     ]
    }
   ],
   "source": [
    "# Multinomial NB는 데이터 특징이 출현 횟수로 표현\n",
    "# 설명 변수가 연속형 변수일 때, Gaussian NB\n",
    "# 설명 변수가 범주형 변수일 때, Multinomial NB\n",
    "# 범주형인데, 이진형인 경우 Bernoulli NB\n",
    "\n",
    "# alpha = 1.0: 모델 복잡도 조절 파라미터\n",
    "# alpha가 주어지면, 모든 특성에 양의 값을 가진 가상의 data를 alpha개만큼 추가 (smoothing)\n",
    "\n",
    "mod = MultinomialNB(alpha = 1.0)\n",
    "mod.fit(X_train_tfidf, newsdata.target)\n",
    "\n",
    "newsdata_test = fetch_20newsgroups(subset=\"test\", shuffle = True)\n",
    "X_test_dtm = dtmvector.transform(newsdata_test.data)\n",
    "tfidfv_test = tfidfvector.transform(newsdata_test.data)\n",
    "\n",
    "predicted = mod.predict(tfidfv_test)\n",
    "print(\"Accuracy: \", accuracy_score(newsdata_test.target, predicted))"
   ]
  }
 ],
 "metadata": {
  "kernelspec": {
   "display_name": "Python 3 (ipykernel)",
   "language": "python",
   "name": "python3"
  },
  "language_info": {
   "codemirror_mode": {
    "name": "ipython",
    "version": 3
   },
   "file_extension": ".py",
   "mimetype": "text/x-python",
   "name": "python",
   "nbconvert_exporter": "python",
   "pygments_lexer": "ipython3",
   "version": "3.10.9"
  }
 },
 "nbformat": 4,
 "nbformat_minor": 5
}
