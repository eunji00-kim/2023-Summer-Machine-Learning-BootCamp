{
 "cells": [
  {
   "cell_type": "markdown",
   "id": "04f2cac2",
   "metadata": {},
   "source": [
    "# Day1\n",
    "\n",
    "* K-최근접 이웃, 선형회귀, 다항회귀"
   ]
  },
  {
   "cell_type": "markdown",
   "id": "8d80ba38",
   "metadata": {},
   "source": [
    "## K-최근접 이웃 (K-Nearest Neighbor)\n",
    "* 비슷한 특성을 가진 데이터는 비슷한 범주에 속하는 경향이 있다는 가정하에 사용\n",
    "* 특별한 예측 모델 없이 가장 가까운 데이터 포인트를 기반으로 예측을 수행하는 방법\n",
    "* 다양한 레이블의 데이터 중에서, 자신과 가까운 데이터를 찾아 자신의 레이블을 결정하는 방식\n",
    "* 비매개변수 머신러닝 모델\n",
    "* 분류와 회귀 모두 지원\n",
    "* 비지도 학습의 가장 간단한 예시\n",
    "* 줄여서 KNN이라고 표시\n",
    "* k개의 가장 가까운 훈련 인스턴스를 골라 가장 많은 레이블을 분류로 선택\n",
    "* 단순히 훈련 데이터셋을 저장하는 것이 모델을 만드는 과정의 전부\n",
    "* 훈련 단계에서 학습을 하지 않기 때문에 \"게으른 학습\"이라 부름\n",
    "* 테스트/검증 단계에서 테스트 관측값과 가장 근접한 훈련 관측값을 비교\n",
    "* 거리에만 의존하므로 차원의 저주에 따라 예측에 필요한 특징의 개수가 늘어나면 성능이 크게 저하됨.\n",
    "---\n",
    "* K: 최근접 점을 몇 개까지 볼 것인가, 기본적으로 작은 홀수로 사용\n",
    "* 최근접점을 구하는 방법: 유클리드 공간의 점과 점 사이의 직선거리를 이용\n",
    "* k에 따라 분류가 달라질 수 있음\n",
    "* 최선의 k를 선택하는 것은 데이터마다 다르게 접근해야 하는데, 일반적으로는 총 데이터 수의 제곱근을 사용\n",
    "---\n",
    "* 주의할 점\n",
    "    * 거리 기반 알고리즘을 사용할 땐 데이터를 표현하는 기준이 다르면 알고리즘이 올바르게 예측할 수 없음. 일정한 기준으로 맞춰줘야 함.\n",
    "    * 특징의 표준화된 크기 조절(스케일링) 필요\n",
    "    * 주로 최소-최대 정규화, Z-점수 표준화 사용\n",
    "    * 최소-최대 정규화는 테스트셋의 최소/최대가 범위를 벗어나는 경우가 생길 수 있기 때문에, 주로 Z-점수 표준화 사용\n",
    "* 최소-최대 정규화: 변수 X의 범위를 0%에서 100%까지로 나타내는 방식\n",
    "* Z-점수 표준화: 변수 X의 범위를 평균으로부터 몇 표준편차만큼 떨어져 있는지를 관점으로 변수를 확대/축소시키는 방식\n",
    "---\n",
    "* 차원의 저주\n",
    "    * 차원이 증가하면서 학습데이터 수가 차원 수보다 적어져서 성능이 저하되는 현상\n",
    "    * 차원이 증가할수록 변수가 증가하고, 개별 차원 내에서 학습할 데이터 수가 적어짐."
   ]
  },
  {
   "cell_type": "markdown",
   "id": "1e6ed532",
   "metadata": {},
   "source": [
    "### K-최근접 이웃 분류\n",
    "* 예측하려는 샘플에 가장 가까운 샘플 k개를 선택하고, 샘플들의 클래스를 확인하여 다수 클래스를 새로운 샘플의 클래스로 예측"
   ]
  },
  {
   "cell_type": "markdown",
   "id": "4d3d97ab",
   "metadata": {},
   "source": [
    "### K-최근접 이웃 회귀 (KNN Regression)\n",
    "\n",
    "* 임의의 어떤 숫자를 예측\n",
    "* 이웃 수치들의 평균을 사용\n",
    "* 예측 값을 평가하기 위해 결정계수(coefficient of determination)를 사용 = R^2\n",
    "* R^2 = 1 - {(타겟-예측)^2의 합/(타겟-평균)^2의 합}\n",
    "* 타겟의 평균 정도를 예측하는 수준이라면 0에 가까워지고, 예측이 타겟에 아주 가까워지면 1에 가까운 값을 갖게 됨\n",
    "* 테스트하고자 하는 샘플에 근접한 훈련 데이터가 없는 경우, 즉 훈련 셋의 범위를 많이 벗어나는 샘플인 경우 정확하게 예측하기 어려움"
   ]
  },
  {
   "cell_type": "markdown",
   "id": "c2112e71",
   "metadata": {},
   "source": [
    "## 선형 회귀 (Linear Regression)\n",
    "* 회귀에서 가장 널리 사용되는 성능 측정 지표: 평균 제곱근 오차 (RMSE)\n",
    "* 선형 회귀 모델을 훈련시키려면, RMSE를 최소화하는 theta를 찾아야 함."
   ]
  },
  {
   "cell_type": "markdown",
   "id": "bed94025",
   "metadata": {},
   "source": [
    "### 경사 하강법 (Grandient Descent)\n",
    "* 기본 아이디어: 비용 함수 (cost function)를 최소화하기 위해 반복해서 파라미터를 조정하는 것\n",
    "* 파라미터 벡터 theta에 대해 현재 gradient를 계산하고, 감소하는 방향으로 진행 (0에 도닥한 경우 = 최솟값에 도달)\n",
    "* 경사 하강법의 가장 중요한 파라미터는 step의 크기 = 학습률 (learning rate)  **하이퍼 파라미터\n",
    "* 학습률이 너무 작으면?: 알고리즘이 수렴하기 위해 반복을 많이 진행해야 하므로 시간이 오래 걸림\n",
    "* 학습률이 너무 크면?: 알고리즘이 더 큰 값으로 발산할 수 있음\n",
    "* 경사 하강법의 두 가지 문제: Global minimum, Local minimum"
   ]
  },
  {
   "cell_type": "markdown",
   "id": "58e1f7c6",
   "metadata": {},
   "source": [
    "### 배치 경사 하강법 (Batch Gradient Descent)\n",
    "* 전체 데이터셋에 대해 오차를 구한 뒤, 기울기를 한 번만 계산하여 모델의 파라미터 업데이트\n",
    "* 1 Epoch 당 1회 업데이트\n",
    "* 전체 데이터를 모두 한 번에 처리하기 때문에 메모리가 많이 필요"
   ]
  },
  {
   "cell_type": "markdown",
   "id": "0f5e3d3c",
   "metadata": {},
   "source": [
    "### 확률적 경사 하강법 (Stochastic Gradient Descent)\n",
    "* 추출된 데이터 한 개에 대해서 그래디언트를 계산하고, 경사 하강 알고리즘을 적용하는 방법\n",
    "* 전체 데이터 중 하나의 데이터를 무작위로 선택하여 그 샘플에 대한 그래디언트를 계산\n",
    "* 매 반복에서 매우 적은 데이터만 처리하기 때문에 알고리즘이 매우 빠름\n",
    "* 매 반복에서 하나의 샘플만 있으면 되므로, 매우 큰 훈련 세트로 훈련 가능\n",
    "* GDB 보다 매우 불안정\n",
    "* cost function이 최솟값에 다다를 때까지 부드럽게 감소하지 않고 위아래로 요동치면서 평균적으로 감소\n",
    "* Global minimum에 다다르지 못할 가능성 높음"
   ]
  },
  {
   "cell_type": "markdown",
   "id": "0ca878e5",
   "metadata": {},
   "source": [
    "### 미니 배치 경사 하강법 (Mini Batch Gradient Descent)\n",
    "* BGD와 SGD의 절충안\n",
    "* 전체 데이터를 batch size개씩 나누어 배치로 학습 (batch size는 하이퍼 파라미터)\n",
    "* mini bacth라 부르는 임의의 작은 샘플 세트에 대해 gradient 계산\n",
    "* 행렬 연산에 최적화된 하드웨어(GPU)를 사용해서 얻는 성능 향상\n",
    "* mini batch를 어느 정도 크게 하면 SGD보다 덜 불규칙하게 움직임. 즉, SGD보다 최솟값에 더 가까이 도달하게 될 것"
   ]
  },
  {
   "cell_type": "markdown",
   "id": "eedc44c5",
   "metadata": {},
   "source": [
    "## 다항회귀 (Polynomial Regression)\n",
    "* 독립변수의 차수를 높이는 형태. 차수가 높아질수록 복잡한 다항식을 이용해 모델 구현 가능\n",
    "* 단순 선형 모델의 한계를 어느 정도 극복 가능\n",
    "* overfitting 초래 가능성 존재. 차수가 높게 지정될수록, 학습데이터에만 피팅 되어 새로운 데이터에 대해 예측 정확도가 떨어지는 현상 발생"
   ]
  },
  {
   "cell_type": "markdown",
   "id": "3ee91e85",
   "metadata": {},
   "source": [
    "## Train set & Test set\n",
    "* 머신러닝 알고리즘의 성능을 제대로 평가하려면, 훈련데이터와 평가에 사용할 데이터가 달라야 함\n",
    "* 평가에 사용하는 데이터를 test set, 훈련에 사용되는 데이터를 train set이라고 함"
   ]
  },
  {
   "cell_type": "markdown",
   "id": "ef18d265",
   "metadata": {},
   "source": [
    "### 훈련 세트와 테스트 세트"
   ]
  },
  {
   "cell_type": "code",
   "execution_count": 1,
   "id": "a076a6b6",
   "metadata": {},
   "outputs": [],
   "source": [
    "# 생선의 길이 (도미, 빙어)\n",
    "fish_length = [25.4, 26.3, 26.5, 29.0, 29.0, 29.7, 29.7, 30.0, 30.0, 30.7, 31.0, 31.0,\n",
    "               31.5, 32.0, 32.0, 32.0, 33.0, 33.0, 33.5, 33.5, 34.0, 34.0, 34.5, 35.0,\n",
    "               35.0, 35.0, 35.0, 36.0, 36.0, 37.0, 38.5, 38.5, 39.5, 41.0, 41.0, 9.8,\n",
    "               10.5, 10.6, 11.0, 11.2, 11.3, 11.8, 11.8, 12.0, 12.2, 12.4, 13.0, 14.3, 15.0]\n",
    "\n",
    "# 생선의 무게 (도미, 빙어)\n",
    "fish_weight = [242.0, 290.0, 340.0, 363.0, 430.0, 450.0, 500.0, 390.0, 450.0, 500.0, 475.0, 500.0,\n",
    "              500.0, 340.0, 600.0, 600.0, 700.0, 700.0, 610.0, 650.0, 575.0, 685.0, 620.0, 680.0,\n",
    "              700.0, 725.0, 720.0, 714.0, 850.0, 1000.0, 920.0, 955.0, 925.0, 975.0, 950.0, 6.7,\n",
    "              7.5, 7.0, 9.7, 9.8, 8.7, 10.0, 9.9, 9.8, 12.2, 13.4, 12.2, 19.7, 19.9]"
   ]
  },
  {
   "cell_type": "code",
   "execution_count": 2,
   "id": "33d6a9bc",
   "metadata": {},
   "outputs": [],
   "source": [
    "# 각 생선에 대해서 길이와 무게를 짝지어 줌\n",
    "fish_data = [[l, w] for l, w in zip(fish_length, fish_weight)]\n",
    "\n",
    "# 도미(35마리): 1, 빙어(14마리): 0\n",
    "fish_target = [1] * 35 + [0] * 14"
   ]
  },
  {
   "cell_type": "code",
   "execution_count": 3,
   "id": "fb2013f8",
   "metadata": {},
   "outputs": [],
   "source": [
    "# 사이킷런에서 KNeighborsClassifier를 import 해줌\n",
    "from sklearn.neighbors import KNeighborsClassifier\n",
    "\n",
    "# KNeighborsClassifier 클래스 인스턴스 생성\n",
    "kn = KNeighborsClassifier()"
   ]
  },
  {
   "cell_type": "code",
   "execution_count": 4,
   "id": "1d8a9105",
   "metadata": {},
   "outputs": [
    {
     "name": "stdout",
     "output_type": "stream",
     "text": [
      "[29.0, 430.0]\n"
     ]
    }
   ],
   "source": [
    "# 인덱스 번호가 4인 데이터를 출력 = 5번째 데이터\n",
    "print(fish_data[4])"
   ]
  },
  {
   "cell_type": "code",
   "execution_count": 5,
   "id": "adc883e4",
   "metadata": {},
   "outputs": [
    {
     "name": "stdout",
     "output_type": "stream",
     "text": [
      "[[25.4, 242.0], [26.3, 290.0], [26.5, 340.0], [29.0, 363.0], [29.0, 430.0]]\n"
     ]
    }
   ],
   "source": [
    "# 인덱스 번호가 0!4인 데이터를 출력\n",
    "print(fish_data[0:5])"
   ]
  },
  {
   "cell_type": "code",
   "execution_count": 6,
   "id": "867ef9ab",
   "metadata": {},
   "outputs": [],
   "source": [
    "# 훈련 세트로 입력값 중 0~34번째 인덱스까지 사용\n",
    "train_input = fish_data[:35]\n",
    "\n",
    "# 훈련 세트로 타깃값 중 0~34번째 인덱스까지 사용\n",
    "train_target = fish_target[:35]\n",
    "\n",
    "# 테스트 세트로 입력값 중 35~ 마지막 인덱스까지 사용\n",
    "test_input = fish_data[35:]\n",
    "\n",
    "# 테스트 세트로 타깃값 중 35~ 마지막 인덱스까지 사용\n",
    "test_target = fish_target[35:]"
   ]
  },
  {
   "cell_type": "code",
   "execution_count": 7,
   "id": "a1169476",
   "metadata": {},
   "outputs": [
    {
     "data": {
      "text/plain": [
       "0.0"
      ]
     },
     "execution_count": 7,
     "metadata": {},
     "output_type": "execute_result"
    }
   ],
   "source": [
    "# fit() 메서드를 통해 모델을 훈련함\n",
    "kn = kn.fit(train_input, train_target)\n",
    "\n",
    "# score() 메서드를 호출해 평가\n",
    "# 0이 출력되며 성능이 더 저하된 것을 알 수 있음\n",
    "kn.score(test_input, test_target)"
   ]
  },
  {
   "cell_type": "markdown",
   "id": "4c350c9e",
   "metadata": {},
   "source": [
    "### 넘파이"
   ]
  },
  {
   "cell_type": "code",
   "execution_count": 8,
   "id": "5a6f5ea4",
   "metadata": {},
   "outputs": [],
   "source": [
    "# 넘파이 불러오기\n",
    "import numpy as np"
   ]
  },
  {
   "cell_type": "code",
   "execution_count": 9,
   "id": "9cbe9918",
   "metadata": {},
   "outputs": [],
   "source": [
    "# fish_data를 넘파이 배열 형태로 변환\n",
    "input_arr = np.array(fish_data)\n",
    "\n",
    "# fish_target를 넘파이 배열 형태로 변환\n",
    "target_arr = np.array(fish_target)"
   ]
  },
  {
   "cell_type": "code",
   "execution_count": 10,
   "id": "35820825",
   "metadata": {},
   "outputs": [
    {
     "name": "stdout",
     "output_type": "stream",
     "text": [
      "[[  25.4  242. ]\n",
      " [  26.3  290. ]\n",
      " [  26.5  340. ]\n",
      " [  29.   363. ]\n",
      " [  29.   430. ]\n",
      " [  29.7  450. ]\n",
      " [  29.7  500. ]\n",
      " [  30.   390. ]\n",
      " [  30.   450. ]\n",
      " [  30.7  500. ]\n",
      " [  31.   475. ]\n",
      " [  31.   500. ]\n",
      " [  31.5  500. ]\n",
      " [  32.   340. ]\n",
      " [  32.   600. ]\n",
      " [  32.   600. ]\n",
      " [  33.   700. ]\n",
      " [  33.   700. ]\n",
      " [  33.5  610. ]\n",
      " [  33.5  650. ]\n",
      " [  34.   575. ]\n",
      " [  34.   685. ]\n",
      " [  34.5  620. ]\n",
      " [  35.   680. ]\n",
      " [  35.   700. ]\n",
      " [  35.   725. ]\n",
      " [  35.   720. ]\n",
      " [  36.   714. ]\n",
      " [  36.   850. ]\n",
      " [  37.  1000. ]\n",
      " [  38.5  920. ]\n",
      " [  38.5  955. ]\n",
      " [  39.5  925. ]\n",
      " [  41.   975. ]\n",
      " [  41.   950. ]\n",
      " [   9.8    6.7]\n",
      " [  10.5    7.5]\n",
      " [  10.6    7. ]\n",
      " [  11.     9.7]\n",
      " [  11.2    9.8]\n",
      " [  11.3    8.7]\n",
      " [  11.8   10. ]\n",
      " [  11.8    9.9]\n",
      " [  12.     9.8]\n",
      " [  12.2   12.2]\n",
      " [  12.4   13.4]\n",
      " [  13.    12.2]\n",
      " [  14.3   19.7]\n",
      " [  15.    19.9]]\n"
     ]
    }
   ],
   "source": [
    "# input_arr 배열 출력\n",
    "print(input_arr)"
   ]
  },
  {
   "cell_type": "code",
   "execution_count": 11,
   "id": "f0998f23",
   "metadata": {},
   "outputs": [
    {
     "name": "stdout",
     "output_type": "stream",
     "text": [
      "(49, 2)\n"
     ]
    }
   ],
   "source": [
    "# input_arr의 배열의 형태를 shape을 통해 알 수 있음\n",
    "# 49개(도미, 빙어)의 샘플과 2개(길이, 무게)의 특성\n",
    "print(input_arr.shape)"
   ]
  },
  {
   "cell_type": "code",
   "execution_count": 12,
   "id": "1485f26d",
   "metadata": {},
   "outputs": [],
   "source": [
    "# 넘파이에서 무작위 결과를 만드는 함수는 실행마다 다른 결과를 도출\n",
    "# 일정한 결과를 얻기 위해 랜덤시드 지정해야 함. 랜덤시드 42로 설정\n",
    "np.random.seed(42)\n",
    "\n",
    "# 0~48까지 1씩 증가하는 인덱스를 만듦\n",
    "index = np.arange(49)\n",
    "\n",
    "# shuffle() 함수를 사용해서 배열을 무작위로 섞음\n",
    "np.random.shuffle(index)"
   ]
  },
  {
   "cell_type": "code",
   "execution_count": 13,
   "id": "2a412876",
   "metadata": {},
   "outputs": [
    {
     "name": "stdout",
     "output_type": "stream",
     "text": [
      "[13 45 47 44 17 27 26 25 31 19 12  4 34  8  3  6 40 41 46 15  9 16 24 33\n",
      " 30  0 43 32  5 29 11 36  1 21  2 37 35 23 39 10 22 18 48 20  7 42 14 28\n",
      " 38]\n"
     ]
    }
   ],
   "source": [
    "# 섞인 배열 출력\n",
    "print(index)"
   ]
  },
  {
   "cell_type": "code",
   "execution_count": 14,
   "id": "5be06e68",
   "metadata": {},
   "outputs": [
    {
     "name": "stdout",
     "output_type": "stream",
     "text": [
      "[[ 26.3 290. ]\n",
      " [ 29.  363. ]]\n"
     ]
    }
   ],
   "source": [
    "# 넘파이는 배열 인덱싱 기능을 제공\n",
    "# [1, 3]은 인덱스 번호 1, 3에 해당하는 데이터(2, 4번째 데이터) 출력\n",
    "# 리스트 대신 넘파이 배열을 인덱스로 전달할 수 있음\n",
    "print(input_arr[[1, 3]])"
   ]
  },
  {
   "cell_type": "code",
   "execution_count": 15,
   "id": "4d1e5bbd",
   "metadata": {},
   "outputs": [],
   "source": [
    "# input_arr에 index의 0~34번째 인덱스에 해당하는 리스트를 슬라이싱 함\n",
    "# 위 값을 train_input이 할당 받음\n",
    "# 훈련 세트 준비\n",
    "train_input = input_arr[index[:35]]\n",
    "\n",
    "# target_arr에 index의 0 ~34번째 인덱스에 해당하는 리스트를 슬라이싱 함\n",
    "# 위 값을 train_target이 할당 받음\n",
    "# 훈련 세트 준비\n",
    "train_target = target_arr[index[:35]]"
   ]
  },
  {
   "cell_type": "code",
   "execution_count": 16,
   "id": "bb9cbf8b",
   "metadata": {},
   "outputs": [
    {
     "name": "stdout",
     "output_type": "stream",
     "text": [
      "[ 32. 340.] [ 32. 340.]\n"
     ]
    }
   ],
   "source": [
    "# 해당 인덱스 값 출력\n",
    "print(input_arr[13], train_input[0])"
   ]
  },
  {
   "cell_type": "code",
   "execution_count": 17,
   "id": "ca67e766",
   "metadata": {},
   "outputs": [],
   "source": [
    "# input_arr에 index의 35 ~ 마지막 번째 인덱스에 해당하는 리스트를 슬라이싱 함\n",
    "# 위 값을 test_input이 할당 받음\n",
    "# 테스트 세트 준비\n",
    "test_input = input_arr[index[35:]]\n",
    "\n",
    "# input_arr에 index의 35 ~ 마지막 번째 인덱스에 해당하는 리스트를 슬라이싱 함\n",
    "# 위 값을 test_target이 할당 받음\n",
    "# 테스트 테스 준비\n",
    "test_target = target_arr[index[35:]]"
   ]
  },
  {
   "cell_type": "code",
   "execution_count": 18,
   "id": "fb131efc",
   "metadata": {
    "scrolled": true
   },
   "outputs": [
    {
     "data": {
      "image/png": "[encoded data removed]",
      "text/plain": [
       "<Figure size 640x480 with 1 Axes>"
      ]
     },
     "metadata": {},
     "output_type": "display_data"
    }
   ],
   "source": [
    "# 시각화를 위해 matplotlib에서 pyplot을 import\n",
    "import matplotlib.pyplot as plt\n",
    "\n",
    "# 훈련 데이터 산점도\n",
    "plt.scatter(train_input[:, 0], train_input[:, 1])\n",
    "\n",
    "#테스트 데이터 산점도\n",
    "plt.scatter(test_input[:, 0], test_input[:, 1])\n",
    "\n",
    "# x축 라벨\n",
    "plt.xlabel(\"length\")\n",
    "\n",
    "# y축 라벨\n",
    "plt.ylabel(\"weight\")\n",
    "\n",
    "# 출력\n",
    "plt.show()"
   ]
  },
  {
   "cell_type": "markdown",
   "id": "ea19c809",
   "metadata": {},
   "source": [
    "### 두 번째 머신러닝 프로그램"
   ]
  },
  {
   "cell_type": "code",
   "execution_count": 19,
   "id": "e3b1c13e",
   "metadata": {},
   "outputs": [],
   "source": [
    "# 앞서 만든 훈련 세트와 테스트 세트로 K-최근접 이웃 모델을 훈련\n",
    "kn = kn.fit(train_input, train_target)"
   ]
  },
  {
   "cell_type": "code",
   "execution_count": 20,
   "id": "354710d6",
   "metadata": {},
   "outputs": [
    {
     "data": {
      "text/plain": [
       "1.0"
      ]
     },
     "execution_count": 20,
     "metadata": {},
     "output_type": "execute_result"
    }
   ],
   "source": [
    "# score() 메서드로 정확도를 출력\n",
    "# 1.0으로 모두 맞힘\n",
    "kn.score(test_input, test_target)"
   ]
  },
  {
   "cell_type": "code",
   "execution_count": 21,
   "id": "0d34226e",
   "metadata": {},
   "outputs": [
    {
     "data": {
      "text/plain": [
       "array([0, 0, 1, 0, 1, 1, 1, 0, 1, 1, 0, 1, 1, 0])"
      ]
     },
     "execution_count": 21,
     "metadata": {},
     "output_type": "execute_result"
    }
   ],
   "source": [
    "# test_input의 예측값 출력\n",
    "kn.predict(test_input)"
   ]
  },
  {
   "cell_type": "code",
   "execution_count": 22,
   "id": "51b52b40",
   "metadata": {},
   "outputs": [
    {
     "data": {
      "text/plain": [
       "array([0, 0, 1, 0, 1, 1, 1, 0, 1, 1, 0, 1, 1, 0])"
      ]
     },
     "execution_count": 22,
     "metadata": {},
     "output_type": "execute_result"
    }
   ],
   "source": [
    "# 정답 출력\n",
    "# test_input의 예측 값과 모두 일치\n",
    "test_target"
   ]
  },
  {
   "cell_type": "markdown",
   "id": "1016e95c",
   "metadata": {},
   "source": [
    "## 데이터 전처리"
   ]
  },
  {
   "cell_type": "markdown",
   "id": "1fd20197",
   "metadata": {},
   "source": [
    "### 넘파이로 데이터 준비하기"
   ]
  },
  {
   "cell_type": "code",
   "execution_count": 23,
   "id": "fad6afe9",
   "metadata": {},
   "outputs": [],
   "source": [
    "# 생선의 길이 (도미, 빙어)\n",
    "fish_length = [25.4, 26.3, 26.5, 29.0, 29.0, 29.7, 29.7, 30.0, 30.0, 30.7, 31.0, 31.0,\n",
    "               31.5, 32.0, 32.0, 32.0, 33.0, 33.0, 33.5, 33.5, 34.0, 34.0, 34.5, 35.0,\n",
    "               35.0, 35.0, 35.0, 36.0, 36.0, 37.0, 38.5, 38.5, 39.5, 41.0, 41.0, 9.8,\n",
    "               10.5, 10.6, 11.0, 11.2, 11.3, 11.8, 11.8, 12.0, 12.2, 12.4, 13.0, 14.3, 15.0]\n",
    "\n",
    "# 생선의 무게 (도미, 빙어)\n",
    "fish_weight = [242.0, 290.0, 340.0, 363.0, 430.0, 450.0, 500.0, 390.0, 450.0, 500.0, 475.0, 500.0,\n",
    "              500.0, 340.0, 600.0, 600.0, 700.0, 700.0, 610.0, 650.0, 575.0, 685.0, 620.0, 680.0,\n",
    "              700.0, 725.0, 720.0, 714.0, 850.0, 1000.0, 920.0, 955.0, 925.0, 975.0, 950.0, 6.7,\n",
    "              7.5, 7.0, 9.7, 9.8, 8.7, 10.0, 9.9, 9.8, 12.2, 13.4, 12.2, 19.7, 19.9]"
   ]
  },
  {
   "cell_type": "code",
   "execution_count": 24,
   "id": "a8be889b",
   "metadata": {},
   "outputs": [],
   "source": [
    "# 넘파이 불러오기\n",
    "import numpy as np"
   ]
  },
  {
   "cell_type": "code",
   "execution_count": 25,
   "id": "1a23f684",
   "metadata": {},
   "outputs": [
    {
     "data": {
      "text/plain": [
       "array([[1, 4],\n",
       "       [2, 5],\n",
       "       [3, 6]])"
      ]
     },
     "execution_count": 25,
     "metadata": {},
     "output_type": "execute_result"
    }
   ],
   "source": [
    "# column_stack() 함수는 매개변수를 받은 리스트를 일렬로 세운 다음 차례대로 나란히 연결\n",
    "# 연결할 리스트는 튜플 형태로 전달\n",
    "np.column_stack(([1,2,3], [4,5,6]))"
   ]
  },
  {
   "cell_type": "code",
   "execution_count": 26,
   "id": "90379145",
   "metadata": {},
   "outputs": [],
   "source": [
    "# fish_length와 fish_weight를 column_stack() 함수에 전달\n",
    "fish_data = np.column_stack((fish_length, fish_weight))"
   ]
  },
  {
   "cell_type": "code",
   "execution_count": 27,
   "id": "eb1124f3",
   "metadata": {},
   "outputs": [
    {
     "name": "stdout",
     "output_type": "stream",
     "text": [
      "[[ 25.4 242. ]\n",
      " [ 26.3 290. ]\n",
      " [ 26.5 340. ]\n",
      " [ 29.  363. ]\n",
      " [ 29.  430. ]]\n"
     ]
    }
   ],
   "source": [
    "# 앞의 5개의 데이터 출력\n",
    "print(fish_data[:5])"
   ]
  },
  {
   "cell_type": "code",
   "execution_count": 28,
   "id": "fac9e748",
   "metadata": {},
   "outputs": [
    {
     "name": "stdout",
     "output_type": "stream",
     "text": [
      "[1. 1. 1. 1. 1.]\n"
     ]
    }
   ],
   "source": [
    "# 모든 원소가 1인 5개의 원소를 넘파이 배열로 출력\n",
    "# np.zeros()는 np.ones()와 유사하게 원소가 0인 것을 넘파이 배열로 출력\n",
    "print(np.ones(5))"
   ]
  },
  {
   "cell_type": "code",
   "execution_count": 29,
   "id": "691207c1",
   "metadata": {},
   "outputs": [],
   "source": [
    "# 1이 35개인 배열과 0이 14개인 배열을 만든 다음, np.concatenate() 함수를 사용\n",
    "# np.concatenate() 는 첫 번째 차원을 따라 배열을 연결함\n",
    "fish_target = np.concatenate((np.ones(35), np.zeros(14)))"
   ]
  },
  {
   "cell_type": "code",
   "execution_count": 30,
   "id": "73dd8c78",
   "metadata": {},
   "outputs": [
    {
     "name": "stdout",
     "output_type": "stream",
     "text": [
      "[1. 1. 1. 1. 1. 1. 1. 1. 1. 1. 1. 1. 1. 1. 1. 1. 1. 1. 1. 1. 1. 1. 1. 1.\n",
      " 1. 1. 1. 1. 1. 1. 1. 1. 1. 1. 1. 0. 0. 0. 0. 0. 0. 0. 0. 0. 0. 0. 0. 0.\n",
      " 0.]\n"
     ]
    }
   ],
   "source": [
    "# fish_target 출력\n",
    "print(fish_target)"
   ]
  },
  {
   "cell_type": "markdown",
   "id": "81f5f383",
   "metadata": {},
   "source": [
    "### 사이킷런으로 훈련 세트와 테스트 세트 나누기"
   ]
  },
  {
   "cell_type": "code",
   "execution_count": 31,
   "id": "d56ba1fb",
   "metadata": {},
   "outputs": [],
   "source": [
    "# train_test_split 함수는 배열을 비율에 맞게 훈련 세트와 테스트 세트로 나눠줌\n",
    "# 이전처럼 직접 인덱스를 섞어서 훈련 세트와 테스트 세트로 나눌 필요가 없음\n",
    "from sklearn.model_selection import train_test_split"
   ]
  },
  {
   "cell_type": "code",
   "execution_count": 32,
   "id": "d58ba018",
   "metadata": {},
   "outputs": [],
   "source": [
    "# fish_data를 train_input과 test_input으로 2개의 배열로 나눔\n",
    "# fish_target를 train_target와 test_target으로 나눔\n",
    "# 기본적으로 25%를 테스트 세트로 설정\n",
    "train_input, test_input, train_target, test_target = train_test_split(fish_data, fish_target, random_state = 42)"
   ]
  },
  {
   "cell_type": "code",
   "execution_count": 33,
   "id": "acf19954",
   "metadata": {},
   "outputs": [
    {
     "name": "stdout",
     "output_type": "stream",
     "text": [
      "(36, 2) (13, 2)\n"
     ]
    }
   ],
   "source": [
    "# train_input과 test_input 형태 출력\n",
    "print(train_input.shape, test_input.shape)"
   ]
  },
  {
   "cell_type": "code",
   "execution_count": 34,
   "id": "95ba772c",
   "metadata": {},
   "outputs": [
    {
     "name": "stdout",
     "output_type": "stream",
     "text": [
      "(36,) (13,)\n"
     ]
    }
   ],
   "source": [
    "# train_target과 test_target 형태 출력\n",
    "print(train_target.shape, test_target.shape)"
   ]
  },
  {
   "cell_type": "code",
   "execution_count": 35,
   "id": "bc112b50",
   "metadata": {},
   "outputs": [
    {
     "name": "stdout",
     "output_type": "stream",
     "text": [
      "[1. 0. 0. 0. 1. 1. 1. 1. 1. 1. 1. 1. 1.]\n"
     ]
    }
   ],
   "source": [
    "# 도미와 빙어가 잘 섞였는지 알기 위해 test_target 출력\n",
    "# 13개의 테스트 세트 중에 10개가 도미(1), 3개가 빙어(0)로 비율이 3,3:1\n",
    "# 원래 비율은 35:14로 2.5:1으로 샘플링 편향이 존재\n",
    "# 샘플링 편향이 있어 훈련 세트와 테스트 세트에 비율이 일정하지 않다면, 모델이 일부 샘플을 올바르게 학습할 수 없음\n",
    "# 해결 방법으로 stratify 매개변수에 타겟 데이터를 전달하면 클래스 비율에 맞게 데이터를 나눔\n",
    "print(test_target)"
   ]
  },
  {
   "cell_type": "code",
   "execution_count": 36,
   "id": "7ecaa1f5",
   "metadata": {},
   "outputs": [],
   "source": [
    "# stratify 매개변수에 타깃 데이터 전달\n",
    "train_input, test_input, train_target, test_target = train_test_split(fish_data, fish_target, stratify = fish_target, random_state = 42)"
   ]
  },
  {
   "cell_type": "code",
   "execution_count": 37,
   "id": "1e736b62",
   "metadata": {},
   "outputs": [
    {
     "name": "stdout",
     "output_type": "stream",
     "text": [
      "[0. 0. 1. 0. 1. 0. 1. 1. 1. 1. 1. 1. 1.]\n"
     ]
    }
   ],
   "source": [
    "# 다시 test_target 출력\n",
    "# 데이터가 작아 전체 훈련 데이터의 비율과 동일하지 않지만, 2.25:1로 훈련 데이터의 비율과 유사\n",
    "print(test_target)"
   ]
  },
  {
   "cell_type": "code",
   "execution_count": 38,
   "id": "a2057a7d",
   "metadata": {},
   "outputs": [
    {
     "data": {
      "text/plain": [
       "1.0"
      ]
     },
     "execution_count": 38,
     "metadata": {},
     "output_type": "execute_result"
    }
   ],
   "source": [
    "# 사이킷런에서 KNeghborsClassifier 불러오기\n",
    "from sklearn.neighbors import KNeighborsClassifier\n",
    "\n",
    "# 객체 선언\n",
    "kn = KNeighborsClassifier()\n",
    "\n",
    "# train_input 데이터와 train_target 데이터로 모델 학습\n",
    "kn.fit(train_input, train_target)\n",
    "\n",
    "# score() 메서드로 점수 출력\n",
    "kn.score(test_input, test_target)"
   ]
  },
  {
   "cell_type": "markdown",
   "id": "be7100f2",
   "metadata": {},
   "source": [
    "### 수상한 도미 한 마리"
   ]
  },
  {
   "cell_type": "code",
   "execution_count": 39,
   "id": "4a2b25bc",
   "metadata": {},
   "outputs": [
    {
     "name": "stdout",
     "output_type": "stream",
     "text": [
      "[0.]\n"
     ]
    }
   ],
   "source": [
    "# 도미의 데이터를 넣고 결과 확인\n",
    "# 결과는 빙어(0)\n",
    "print(kn.predict([[25, 150]]))"
   ]
  },
  {
   "cell_type": "code",
   "execution_count": 40,
   "id": "7b15afb3",
   "metadata": {},
   "outputs": [
    {
     "data": {
      "image/png": "[encoded data removed]",
      "text/plain": [
       "<Figure size 640x480 with 1 Axes>"
      ]
     },
     "metadata": {},
     "output_type": "display_data"
    }
   ],
   "source": [
    "# 도미와 빙어 데이터를 산점도로 표시\n",
    "plt.scatter(train_input[:, 0], train_input[:, 1])\n",
    "\n",
    "# 주황색 세모 표시\n",
    "plt.scatter(25, 150, marker = '^')\n",
    "\n",
    "# x축 라벨\n",
    "plt.xlabel(\"length\")\n",
    "\n",
    "# y축 라벨\n",
    "plt.ylabel(\"weight\")\n",
    "\n",
    "# 출력\n",
    "plt.show()"
   ]
  },
  {
   "cell_type": "code",
   "execution_count": 41,
   "id": "f4ff3edb",
   "metadata": {},
   "outputs": [],
   "source": [
    "# KNeighborsClassifier 클래스는 주어진 샘플에서 가장 가까운 이웃을 찾아주는 kneighbors() 메세드 제공\n",
    "# 이 메서드는 이웃까지의 거리와 이웃 샘플의 인덱스를 반환\n",
    "# KNeighborsClassifier 클래스의 이웃 개수인 n_neighbors의 기본값은 5이므로 5개의 이웃이 반환\n",
    "distances, indexes = kn.kneighbors([[25, 150]])"
   ]
  },
  {
   "cell_type": "code",
   "execution_count": 42,
   "id": "bc40da8c",
   "metadata": {},
   "outputs": [
    {
     "data": {
      "image/png": "[encoded data removed]",
      "text/plain": [
       "<Figure size 640x480 with 1 Axes>"
      ]
     },
     "metadata": {},
     "output_type": "display_data"
    }
   ],
   "source": [
    "# 도미와 빙어 데이터를 산점도로 표시\n",
    "plt.scatter(train_input[:, 0], train_input[:, 1])\n",
    "\n",
    "# 주황색 세모 표시\n",
    "plt.scatter(25, 150, marker = '^')\n",
    "\n",
    "# marker = 'D'를 통해, 다이아몬드로 indexes에 있는 원소에 해당하는 데이터를 산점도로 표시\n",
    "plt.scatter(train_input[indexes, 0], train_input[indexes, 1], marker = 'D')\n",
    "\n",
    "# x축 라벨\n",
    "plt.xlabel(\"length\")\n",
    "\n",
    "# y축 라벨\n",
    "plt.ylabel(\"weight\")\n",
    "\n",
    "# 출력\n",
    "# 4개의 빙어, 1개의 도미\n",
    "plt.show()"
   ]
  },
  {
   "cell_type": "code",
   "execution_count": 43,
   "id": "5dcbc8df",
   "metadata": {},
   "outputs": [
    {
     "name": "stdout",
     "output_type": "stream",
     "text": [
      "[[[ 25.4 242. ]\n",
      "  [ 15.   19.9]\n",
      "  [ 14.3  19.7]\n",
      "  [ 13.   12.2]\n",
      "  [ 12.2  12.2]]]\n"
     ]
    }
   ],
   "source": [
    "# train_input[indexes] 데이터 출력\n",
    "print(train_input[indexes])"
   ]
  },
  {
   "cell_type": "code",
   "execution_count": 44,
   "id": "5ca24873",
   "metadata": {},
   "outputs": [
    {
     "name": "stdout",
     "output_type": "stream",
     "text": [
      "[[1. 0. 0. 0. 0.]]\n"
     ]
    }
   ],
   "source": [
    "# train_target[indexes] 데이터 출력\n",
    "print(train_target[indexes])"
   ]
  },
  {
   "cell_type": "code",
   "execution_count": 45,
   "id": "23400d58",
   "metadata": {},
   "outputs": [
    {
     "name": "stdout",
     "output_type": "stream",
     "text": [
      "[[ 92.00086956 130.48375378 130.73859415 138.32150953 138.39320793]]\n"
     ]
    }
   ],
   "source": [
    "# kneighbors() 메서드에서 반환한 distances 배열을 출력\n",
    "print(distances)"
   ]
  },
  {
   "cell_type": "markdown",
   "id": "3d0d7ed8",
   "metadata": {},
   "source": [
    "### 기준을 맞춰라"
   ]
  },
  {
   "cell_type": "code",
   "execution_count": 46,
   "id": "509020b1",
   "metadata": {},
   "outputs": [
    {
     "data": {
      "image/png": "[encoded data removed]",
      "text/plain": [
       "<Figure size 640x480 with 1 Axes>"
      ]
     },
     "metadata": {},
     "output_type": "display_data"
    }
   ],
   "source": [
    "plt.scatter(train_input[:, 0], train_input[:, 1])\n",
    "plt.scatter(25, 150, marker = '^')\n",
    "plt.scatter(train_input[indexes, 0], train_input[indexes, 1], marker = 'D')\n",
    "\n",
    "# x축 범위 0~1000으로 맞춤\n",
    "plt.xlim((0, 1000))\n",
    "\n",
    "plt.xlabel(\"length\")\n",
    "plt.ylabel(\"weight\")\n",
    "plt.show()\n",
    "\n",
    "# x축과 y축의 범위를 동일하게 맞추니, 데이터가 수직으로 늘어선 형태를 보임\n",
    "# 이는 생선의 길이(x축)는 가장 가까운 이웃을 찾는데 크게 영향을 못 줌\n",
    "# 오로지 생선의 무게(y축)만을 고려 -> 특성값을 일정한 기준으로 맞추는 데이터 전처리 필요\n",
    "# 전처리 방법 중 하나인 표준점수(standard score) 사용"
   ]
  },
  {
   "cell_type": "code",
   "execution_count": 47,
   "id": "bd4612be",
   "metadata": {},
   "outputs": [],
   "source": [
    "# np.mean()로 평균을 계산\n",
    "mean = np.mean(train_input, axis = 0)\n",
    "\n",
    "# np.std()로 표준편차 계산\n",
    "std = np.std(train_input, axis = 0)\n",
    "\n",
    "# train_input은 (36, 2) 크기의 배열\n",
    "# axis = 0을 통해 행을 따라 각 열의 통계 값을 계산"
   ]
  },
  {
   "cell_type": "code",
   "execution_count": 48,
   "id": "759d992a",
   "metadata": {},
   "outputs": [
    {
     "name": "stdout",
     "output_type": "stream",
     "text": [
      "[ 27.29722222 454.09722222] [  9.98244253 323.29893931]\n"
     ]
    }
   ],
   "source": [
    "# 평균과 표준 편차 출력\n",
    "print(mean, std)"
   ]
  },
  {
   "cell_type": "code",
   "execution_count": 49,
   "id": "071136c8",
   "metadata": {},
   "outputs": [],
   "source": [
    "# 표준 점수를 알기 위해 원본 데이터에서 평균을 빼고 표준편차로 나눔\n",
    "train_scaled = (train_input - mean) / std"
   ]
  },
  {
   "cell_type": "markdown",
   "id": "5cb11997",
   "metadata": {},
   "source": [
    "### 전처리 데이터로 모델 훈련하기"
   ]
  },
  {
   "cell_type": "code",
   "execution_count": 50,
   "id": "3fadff28",
   "metadata": {},
   "outputs": [
    {
     "data": {
      "image/png": "[encoded data removed]",
      "text/plain": [
       "<Figure size 640x480 with 1 Axes>"
      ]
     },
     "metadata": {},
     "output_type": "display_data"
    }
   ],
   "source": [
    "plt.scatter(train_scaled[:, 0], train_scaled[:, 1])\n",
    "\n",
    "# 주황색 세모\n",
    "plt.scatter(25, 150, marker = '^')\n",
    "\n",
    "plt.xlabel(\"length\")\n",
    "plt.ylabel(\"weight\")\n",
    "plt.show()\n",
    "\n",
    "# 샘플 [20, 150]을 표준점수로 변환하지 않았기 때문에, 주황색 세모가 덩그러니 있음"
   ]
  },
  {
   "cell_type": "code",
   "execution_count": 51,
   "id": "59ea101b",
   "metadata": {},
   "outputs": [],
   "source": [
    "# 표준점수화\n",
    "new = ([25, 150] - mean) / std"
   ]
  },
  {
   "cell_type": "code",
   "execution_count": 52,
   "id": "a9b1d117",
   "metadata": {},
   "outputs": [
    {
     "data": {
      "image/png": "[encoded data removed]",
      "text/plain": [
       "<Figure size 640x480 with 1 Axes>"
      ]
     },
     "metadata": {},
     "output_type": "display_data"
    }
   ],
   "source": [
    "plt.scatter(train_scaled[:, 0], train_scaled[:, 1])\n",
    "plt.scatter(new[0], new[1], marker = '^')\n",
    "plt.xlabel(\"length\")\n",
    "plt.ylabel(\"weight\")\n",
    "plt.show()\n",
    "\n",
    "# 표준점수화한 데이터를 다시 출력\n",
    "# x축과 y축의 범위가 -1.5 ~ 1.5 사이로 바뀜"
   ]
  },
  {
   "cell_type": "code",
   "execution_count": 53,
   "id": "a294c565",
   "metadata": {},
   "outputs": [
    {
     "data": {
      "text/html": [
       "<style>#sk-container-id-1 {color: black;background-color: white;}#sk-container-id-1 pre{padding: 0;}#sk-container-id-1 div.sk-toggleable {background-color: white;}#sk-container-id-1 label.sk-toggleable__label {cursor: pointer;display: block;width: 100%;margin-bottom: 0;padding: 0.3em;box-sizing: border-box;text-align: center;}#sk-container-id-1 label.sk-toggleable__label-arrow:before {content: \"▸\";float: left;margin-right: 0.25em;color: #696969;}#sk-container-id-1 label.sk-toggleable__label-arrow:hover:before {color: black;}#sk-container-id-1 div.sk-estimator:hover label.sk-toggleable__label-arrow:before {color: black;}#sk-container-id-1 div.sk-toggleable__content {max-height: 0;max-width: 0;overflow: hidden;text-align: left;background-color: #f0f8ff;}#sk-container-id-1 div.sk-toggleable__content pre {margin: 0.2em;color: black;border-radius: 0.25em;background-color: #f0f8ff;}#sk-container-id-1 input.sk-toggleable__control:checked~div.sk-toggleable__content {max-height: 200px;max-width: 100%;overflow: auto;}#sk-container-id-1 input.sk-toggleable__control:checked~label.sk-toggleable__label-arrow:before {content: \"▾\";}#sk-container-id-1 div.sk-estimator input.sk-toggleable__control:checked~label.sk-toggleable__label {background-color: #d4ebff;}#sk-container-id-1 div.sk-label input.sk-toggleable__control:checked~label.sk-toggleable__label {background-color: #d4ebff;}#sk-container-id-1 input.sk-hidden--visually {border: 0;clip: rect(1px 1px 1px 1px);clip: rect(1px, 1px, 1px, 1px);height: 1px;margin: -1px;overflow: hidden;padding: 0;position: absolute;width: 1px;}#sk-container-id-1 div.sk-estimator {font-family: monospace;background-color: #f0f8ff;border: 1px dotted black;border-radius: 0.25em;box-sizing: border-box;margin-bottom: 0.5em;}#sk-container-id-1 div.sk-estimator:hover {background-color: #d4ebff;}#sk-container-id-1 div.sk-parallel-item::after {content: \"\";width: 100%;border-bottom: 1px solid gray;flex-grow: 1;}#sk-container-id-1 div.sk-label:hover label.sk-toggleable__label {background-color: #d4ebff;}#sk-container-id-1 div.sk-serial::before {content: \"\";position: absolute;border-left: 1px solid gray;box-sizing: border-box;top: 0;bottom: 0;left: 50%;z-index: 0;}#sk-container-id-1 div.sk-serial {display: flex;flex-direction: column;align-items: center;background-color: white;padding-right: 0.2em;padding-left: 0.2em;position: relative;}#sk-container-id-1 div.sk-item {position: relative;z-index: 1;}#sk-container-id-1 div.sk-parallel {display: flex;align-items: stretch;justify-content: center;background-color: white;position: relative;}#sk-container-id-1 div.sk-item::before, #sk-container-id-1 div.sk-parallel-item::before {content: \"\";position: absolute;border-left: 1px solid gray;box-sizing: border-box;top: 0;bottom: 0;left: 50%;z-index: -1;}#sk-container-id-1 div.sk-parallel-item {display: flex;flex-direction: column;z-index: 1;position: relative;background-color: white;}#sk-container-id-1 div.sk-parallel-item:first-child::after {align-self: flex-end;width: 50%;}#sk-container-id-1 div.sk-parallel-item:last-child::after {align-self: flex-start;width: 50%;}#sk-container-id-1 div.sk-parallel-item:only-child::after {width: 0;}#sk-container-id-1 div.sk-dashed-wrapped {border: 1px dashed gray;margin: 0 0.4em 0.5em 0.4em;box-sizing: border-box;padding-bottom: 0.4em;background-color: white;}#sk-container-id-1 div.sk-label label {font-family: monospace;font-weight: bold;display: inline-block;line-height: 1.2em;}#sk-container-id-1 div.sk-label-container {text-align: center;}#sk-container-id-1 div.sk-container {/* jupyter's `normalize.less` sets `[hidden] { display: none; }` but bootstrap.min.css set `[hidden] { display: none !important; }` so we also need the `!important` here to be able to override the default hidden behavior on the sphinx rendered scikit-learn.org. See: https://github.com/scikit-learn/scikit-learn/issues/21755 */display: inline-block !important;position: relative;}#sk-container-id-1 div.sk-text-repr-fallback {display: none;}</style><div id=\"sk-container-id-1\" class=\"sk-top-container\"><div class=\"sk-text-repr-fallback\"><pre>KNeighborsClassifier()</pre><b>In a Jupyter environment, please rerun this cell to show the HTML representation or trust the notebook. <br />On GitHub, the HTML representation is unable to render, please try loading this page with nbviewer.org.</b></div><div class=\"sk-container\" hidden><div class=\"sk-item\"><div class=\"sk-estimator sk-toggleable\"><input class=\"sk-toggleable__control sk-hidden--visually\" id=\"sk-estimator-id-1\" type=\"checkbox\" checked><label for=\"sk-estimator-id-1\" class=\"sk-toggleable__label sk-toggleable__label-arrow\">KNeighborsClassifier</label><div class=\"sk-toggleable__content\"><pre>KNeighborsClassifier()</pre></div></div></div></div></div>"
      ],
      "text/plain": [
       "KNeighborsClassifier()"
      ]
     },
     "execution_count": 53,
     "metadata": {},
     "output_type": "execute_result"
    }
   ],
   "source": [
    "# 모델을 훈련\n",
    "kn.fit(train_scaled, train_target)"
   ]
  },
  {
   "cell_type": "code",
   "execution_count": 54,
   "id": "e4d5d3da",
   "metadata": {},
   "outputs": [],
   "source": [
    "# 테스트 세트 또한 표준점수화로 데이터 전처리 진행\n",
    "test_scaled = (test_input - mean) / std"
   ]
  },
  {
   "cell_type": "code",
   "execution_count": 55,
   "id": "e21f4f41",
   "metadata": {},
   "outputs": [
    {
     "data": {
      "text/plain": [
       "1.0"
      ]
     },
     "execution_count": 55,
     "metadata": {},
     "output_type": "execute_result"
    }
   ],
   "source": [
    "# score()을 통해 점수 출력\n",
    "# 1.0으로 전부 정답\n",
    "kn.score(test_scaled, test_target)"
   ]
  },
  {
   "cell_type": "code",
   "execution_count": 56,
   "id": "d77ca813",
   "metadata": {},
   "outputs": [
    {
     "name": "stdout",
     "output_type": "stream",
     "text": [
      "[1.]\n"
     ]
    }
   ],
   "source": [
    "# 이전 빙어가 나온 데이터를 다시 적용하기 도미(1)로 출력\n",
    "print(kn.predict(([new])))"
   ]
  },
  {
   "cell_type": "code",
   "execution_count": 57,
   "id": "3c33acb0",
   "metadata": {},
   "outputs": [],
   "source": [
    "# kneighbors로 k-최근접 이웃을 구함\n",
    "distances, indexes = kn.kneighbors([new])"
   ]
  },
  {
   "cell_type": "code",
   "execution_count": 58,
   "id": "a09528e1",
   "metadata": {},
   "outputs": [
    {
     "data": {
      "image/png": "[encoded data removed]",
      "text/plain": [
       "<Figure size 640x480 with 1 Axes>"
      ]
     },
     "metadata": {},
     "output_type": "display_data"
    }
   ],
   "source": [
    "plt.scatter(train_scaled[:, 0], train_scaled[:, 1])\n",
    "\n",
    "# 주황색 세모\n",
    "plt.scatter(new[0], new[1], marker = '^')\n",
    "\n",
    "# 주황색 세모와 가까운 5개의 이웃을 녹색 다이아로 출력\n",
    "plt.scatter(train_scaled[indexes, 0], train_scaled[indexes, 1], marker = 'D')\n",
    "\n",
    "plt.xlabel(\"length\")\n",
    "plt.ylabel(\"weight\")\n",
    "plt.show()"
   ]
  },
  {
   "cell_type": "markdown",
   "id": "2770b9e7",
   "metadata": {},
   "source": [
    "## K-최근접 이웃 회귀"
   ]
  },
  {
   "cell_type": "markdown",
   "id": "c4a833a9",
   "metadata": {},
   "source": [
    "### 데이터 준비"
   ]
  },
  {
   "cell_type": "code",
   "execution_count": 59,
   "id": "a75afa3c",
   "metadata": {},
   "outputs": [],
   "source": [
    "import numpy as np"
   ]
  },
  {
   "cell_type": "code",
   "execution_count": 60,
   "id": "83280225",
   "metadata": {},
   "outputs": [],
   "source": [
    "# 넘파이 배열의 농어 길이\n",
    "perch_length = np.array(\n",
    "    [8.4, 13.7, 15.0, 16.2, 17.4, 18.0, 18.7, 19.0, 19.6, 20.0,\n",
    "     21.0, 21.0, 21.0, 21.3, 22.0, 22.0, 22.0, 22.0, 22.0, 22.5,\n",
    "     22.5, 22.7, 23.0, 23.5, 24.0, 24.0, 24.6, 25.0, 25.6, 25.6,\n",
    "     27.3, 27.5, 27.5, 27.5, 28.0, 28.7, 30.0, 32.8, 34.5, 35.0,\n",
    "     36.5, 36.0, 37.0, 37.0, 39.0, 39.0, 39.0, 40.0, 40.0, 40.0,\n",
    "     40.0, 42.0, 43.0, 43.0, 43.5, 44.0]\n",
    "    )\n",
    "\n",
    "# 넘파이 배열의 농어 무게\n",
    "perch_weight = np.array(\n",
    "    [5.9, 32.0, 40.0, 51.5, 70.0, 100.0, 78.0, 80.0, 85.0, 85.0,\n",
    "     110.0, 115.0, 125.0, 130.0, 120.0, 120.0, 130.0, 135.0, 110.0,\n",
    "     130.0, 150.0, 145.0, 150.0, 170.0, 225.0, 145.0, 188.0, 180.0,\n",
    "     197.0, 218.0, 300.0, 260.0, 265.0, 250.0, 250.0, 300.0, 320.0,\n",
    "     514.0, 556.0, 840.0, 685.0, 700.0, 700.0, 690.0, 900.0, 650.0,\n",
    "     820.0, 850.0, 900.0, 1015.0, 820.0, 1100.0, 1000.0, 1100.0,\n",
    "     1000.0, 1000.0]\n",
    "    )"
   ]
  },
  {
   "cell_type": "code",
   "execution_count": 61,
   "id": "08fbdb2e",
   "metadata": {},
   "outputs": [],
   "source": [
    "import matplotlib.pyplot as plt"
   ]
  },
  {
   "cell_type": "code",
   "execution_count": 62,
   "id": "78b1886d",
   "metadata": {},
   "outputs": [
    {
     "data": {
      "image/png": "[encoded data removed]",
      "text/plain": [
       "<Figure size 640x480 with 1 Axes>"
      ]
     },
     "metadata": {},
     "output_type": "display_data"
    }
   ],
   "source": [
    "# 농어의 길이와 무게를 산점도로 표현\n",
    "plt.scatter(perch_length, perch_weight)\n",
    "plt.xlabel(\"length\")\n",
    "plt.ylabel(\"weight\")\n",
    "plt.show()"
   ]
  },
  {
   "cell_type": "code",
   "execution_count": 63,
   "id": "4b18e2c6",
   "metadata": {},
   "outputs": [],
   "source": [
    "# 훈련 세트와 테스트 세트를 나누기 위한 train_test_split 사용\n",
    "from sklearn.model_selection import train_test_split"
   ]
  },
  {
   "cell_type": "code",
   "execution_count": 64,
   "id": "517934bd",
   "metadata": {},
   "outputs": [],
   "source": [
    "# train_test_split() 함수를 사용해 훈련 세트와 테스트 세트로 나눔\n",
    "train_input, test_input, train_target, test_target = train_test_split(perch_length, perch_weight, random_state = 42)"
   ]
  },
  {
   "cell_type": "code",
   "execution_count": 65,
   "id": "bb613e6a",
   "metadata": {},
   "outputs": [
    {
     "name": "stdout",
     "output_type": "stream",
     "text": [
      "(42,) (14,)\n"
     ]
    }
   ],
   "source": [
    "# train_input과 test_input shape 출력\n",
    "print(train_input.shape, test_input.shape)"
   ]
  },
  {
   "cell_type": "code",
   "execution_count": 66,
   "id": "1eb9a21d",
   "metadata": {},
   "outputs": [
    {
     "name": "stdout",
     "output_type": "stream",
     "text": [
      "(4,)\n"
     ]
    }
   ],
   "source": [
    "# test_array shape 출력\n",
    "test_array = np.array([1, 2, 3, 4])\n",
    "print(test_array.shape)"
   ]
  },
  {
   "cell_type": "code",
   "execution_count": 67,
   "id": "96b47605",
   "metadata": {},
   "outputs": [
    {
     "name": "stdout",
     "output_type": "stream",
     "text": [
      "(2, 2)\n"
     ]
    }
   ],
   "source": [
    "# reshape를 통해 (2, 2) 크기가 나오도록 설정\n",
    "test_array = test_array.reshape(2, 2)\n",
    "print(test_array.shape)"
   ]
  },
  {
   "cell_type": "code",
   "execution_count": 68,
   "id": "50468aab",
   "metadata": {},
   "outputs": [],
   "source": [
    "# 아래의 코드를 주석을 제거하고 실행하면 에러가 발생\n",
    "# 2x3 = 6개의 원소 -> 원본과 원소의 개수가 다르므로 error 발생\n",
    "# test_array = test_array.reshape(2, 3)"
   ]
  },
  {
   "cell_type": "code",
   "execution_count": 69,
   "id": "510aa776",
   "metadata": {},
   "outputs": [],
   "source": [
    "# reshape(-1, 1)을 통해 두 번째 크기를 1로 설정하고, -1로 설정된 곳에 나머지 원소 개수로 채움\n",
    "train_input = train_input.reshape(-1, 1)\n",
    "test_input = test_input.reshape(-1, 1)"
   ]
  },
  {
   "cell_type": "code",
   "execution_count": 70,
   "id": "7853c657",
   "metadata": {},
   "outputs": [
    {
     "name": "stdout",
     "output_type": "stream",
     "text": [
      "(42, 1) (14, 1)\n"
     ]
    }
   ],
   "source": [
    "# reshape된 train_input, test_input shape 출력\n",
    "print(train_input.shape, test_input.shape)"
   ]
  },
  {
   "cell_type": "markdown",
   "id": "1119eab8",
   "metadata": {},
   "source": [
    "### 결정계수 (R^2)"
   ]
  },
  {
   "cell_type": "code",
   "execution_count": 71,
   "id": "9a6ed340",
   "metadata": {},
   "outputs": [],
   "source": [
    "# KNeighborsRegressor: 사이킷런에서 k-최근접 이웃 회귀 알고리즘을 구현하는 클래스\n",
    "from sklearn.neighbors import KNeighborsRegressor"
   ]
  },
  {
   "cell_type": "code",
   "execution_count": 72,
   "id": "9b0eb3d5",
   "metadata": {},
   "outputs": [
    {
     "data": {
      "text/html": [
       "<style>#sk-container-id-2 {color: black;background-color: white;}#sk-container-id-2 pre{padding: 0;}#sk-container-id-2 div.sk-toggleable {background-color: white;}#sk-container-id-2 label.sk-toggleable__label {cursor: pointer;display: block;width: 100%;margin-bottom: 0;padding: 0.3em;box-sizing: border-box;text-align: center;}#sk-container-id-2 label.sk-toggleable__label-arrow:before {content: \"▸\";float: left;margin-right: 0.25em;color: #696969;}#sk-container-id-2 label.sk-toggleable__label-arrow:hover:before {color: black;}#sk-container-id-2 div.sk-estimator:hover label.sk-toggleable__label-arrow:before {color: black;}#sk-container-id-2 div.sk-toggleable__content {max-height: 0;max-width: 0;overflow: hidden;text-align: left;background-color: #f0f8ff;}#sk-container-id-2 div.sk-toggleable__content pre {margin: 0.2em;color: black;border-radius: 0.25em;background-color: #f0f8ff;}#sk-container-id-2 input.sk-toggleable__control:checked~div.sk-toggleable__content {max-height: 200px;max-width: 100%;overflow: auto;}#sk-container-id-2 input.sk-toggleable__control:checked~label.sk-toggleable__label-arrow:before {content: \"▾\";}#sk-container-id-2 div.sk-estimator input.sk-toggleable__control:checked~label.sk-toggleable__label {background-color: #d4ebff;}#sk-container-id-2 div.sk-label input.sk-toggleable__control:checked~label.sk-toggleable__label {background-color: #d4ebff;}#sk-container-id-2 input.sk-hidden--visually {border: 0;clip: rect(1px 1px 1px 1px);clip: rect(1px, 1px, 1px, 1px);height: 1px;margin: -1px;overflow: hidden;padding: 0;position: absolute;width: 1px;}#sk-container-id-2 div.sk-estimator {font-family: monospace;background-color: #f0f8ff;border: 1px dotted black;border-radius: 0.25em;box-sizing: border-box;margin-bottom: 0.5em;}#sk-container-id-2 div.sk-estimator:hover {background-color: #d4ebff;}#sk-container-id-2 div.sk-parallel-item::after {content: \"\";width: 100%;border-bottom: 1px solid gray;flex-grow: 1;}#sk-container-id-2 div.sk-label:hover label.sk-toggleable__label {background-color: #d4ebff;}#sk-container-id-2 div.sk-serial::before {content: \"\";position: absolute;border-left: 1px solid gray;box-sizing: border-box;top: 0;bottom: 0;left: 50%;z-index: 0;}#sk-container-id-2 div.sk-serial {display: flex;flex-direction: column;align-items: center;background-color: white;padding-right: 0.2em;padding-left: 0.2em;position: relative;}#sk-container-id-2 div.sk-item {position: relative;z-index: 1;}#sk-container-id-2 div.sk-parallel {display: flex;align-items: stretch;justify-content: center;background-color: white;position: relative;}#sk-container-id-2 div.sk-item::before, #sk-container-id-2 div.sk-parallel-item::before {content: \"\";position: absolute;border-left: 1px solid gray;box-sizing: border-box;top: 0;bottom: 0;left: 50%;z-index: -1;}#sk-container-id-2 div.sk-parallel-item {display: flex;flex-direction: column;z-index: 1;position: relative;background-color: white;}#sk-container-id-2 div.sk-parallel-item:first-child::after {align-self: flex-end;width: 50%;}#sk-container-id-2 div.sk-parallel-item:last-child::after {align-self: flex-start;width: 50%;}#sk-container-id-2 div.sk-parallel-item:only-child::after {width: 0;}#sk-container-id-2 div.sk-dashed-wrapped {border: 1px dashed gray;margin: 0 0.4em 0.5em 0.4em;box-sizing: border-box;padding-bottom: 0.4em;background-color: white;}#sk-container-id-2 div.sk-label label {font-family: monospace;font-weight: bold;display: inline-block;line-height: 1.2em;}#sk-container-id-2 div.sk-label-container {text-align: center;}#sk-container-id-2 div.sk-container {/* jupyter's `normalize.less` sets `[hidden] { display: none; }` but bootstrap.min.css set `[hidden] { display: none !important; }` so we also need the `!important` here to be able to override the default hidden behavior on the sphinx rendered scikit-learn.org. See: https://github.com/scikit-learn/scikit-learn/issues/21755 */display: inline-block !important;position: relative;}#sk-container-id-2 div.sk-text-repr-fallback {display: none;}</style><div id=\"sk-container-id-2\" class=\"sk-top-container\"><div class=\"sk-text-repr-fallback\"><pre>KNeighborsRegressor()</pre><b>In a Jupyter environment, please rerun this cell to show the HTML representation or trust the notebook. <br />On GitHub, the HTML representation is unable to render, please try loading this page with nbviewer.org.</b></div><div class=\"sk-container\" hidden><div class=\"sk-item\"><div class=\"sk-estimator sk-toggleable\"><input class=\"sk-toggleable__control sk-hidden--visually\" id=\"sk-estimator-id-2\" type=\"checkbox\" checked><label for=\"sk-estimator-id-2\" class=\"sk-toggleable__label sk-toggleable__label-arrow\">KNeighborsRegressor</label><div class=\"sk-toggleable__content\"><pre>KNeighborsRegressor()</pre></div></div></div></div></div>"
      ],
      "text/plain": [
       "KNeighborsRegressor()"
      ]
     },
     "execution_count": 72,
     "metadata": {},
     "output_type": "execute_result"
    }
   ],
   "source": [
    "# k-최근접 이웃 회귀 모델을 출력\n",
    "knr = KNeighborsRegressor()\n",
    "knr.fit(train_input, train_target)"
   ]
  },
  {
   "cell_type": "code",
   "execution_count": 73,
   "id": "4cb903b8",
   "metadata": {},
   "outputs": [
    {
     "data": {
      "text/plain": [
       "0.9928066734257411"
      ]
     },
     "execution_count": 73,
     "metadata": {},
     "output_type": "execute_result"
    }
   ],
   "source": [
    "# score을 출력\n",
    "knr.score(test_input, test_target)"
   ]
  },
  {
   "cell_type": "code",
   "execution_count": 74,
   "id": "796b272f",
   "metadata": {},
   "outputs": [],
   "source": [
    "# mean_absolute_error: 타깃과 예측의 절댓값 오차를 평균하여 반환\n",
    "from sklearn.metrics import mean_absolute_error"
   ]
  },
  {
   "cell_type": "code",
   "execution_count": 75,
   "id": "0b789d06",
   "metadata": {},
   "outputs": [
    {
     "name": "stdout",
     "output_type": "stream",
     "text": [
      "19.185714285714287\n"
     ]
    }
   ],
   "source": [
    "# 테스트 세트에 대한 예측\n",
    "test_prediction = knr.predict(test_input)\n",
    "\n",
    "# 테스트 세트에 대한 평균 절댓값 오차를 계산\n",
    "mae = mean_absolute_error(test_target, test_prediction)\n",
    "\n",
    "# mae 출력\n",
    "print(mae)"
   ]
  },
  {
   "cell_type": "markdown",
   "id": "e17a7843",
   "metadata": {},
   "source": [
    "### 과대적합(overfitting) vs. 과소적합(underfitting)"
   ]
  },
  {
   "cell_type": "code",
   "execution_count": 76,
   "id": "d3d7dd5b",
   "metadata": {},
   "outputs": [
    {
     "name": "stdout",
     "output_type": "stream",
     "text": [
      "0.9697686836408022\n"
     ]
    }
   ],
   "source": [
    "# score 출력\n",
    "print(knr.score(train_input, train_target))\n",
    "\n",
    "# 훈련한 모델을 사용해 훈련 세트의 R^2 점수 확인\n",
    "# -> 훈련 세트보다 테스트 세트의 점수가 높음 -> 과소적합 (underfitting)"
   ]
  },
  {
   "cell_type": "code",
   "execution_count": 77,
   "id": "14cc24d5",
   "metadata": {},
   "outputs": [
    {
     "name": "stdout",
     "output_type": "stream",
     "text": [
      "0.9757093360324991\n"
     ]
    }
   ],
   "source": [
    "# 모델을 조금 더 복잡하게 만들면 해결 가능 -> 이웃의 개수 k를 줄이자\n",
    "\n",
    "# 이웃의 개수를 3으로 설정\n",
    "knr.n_neighbors = 3\n",
    "\n",
    "# 모델을 다시 훈련\n",
    "knr.fit(train_input, train_target)\n",
    "\n",
    "# score 출력\n",
    "print(knr.score(test_input, test_target))"
   ]
  },
  {
   "cell_type": "markdown",
   "id": "da924e1f",
   "metadata": {},
   "source": [
    "## 선형 회귀"
   ]
  },
  {
   "cell_type": "markdown",
   "id": "22375ba5",
   "metadata": {},
   "source": [
    "### K-최근접 이웃의 한계"
   ]
  },
  {
   "cell_type": "code",
   "execution_count": 78,
   "id": "9d3c4da0",
   "metadata": {},
   "outputs": [
    {
     "name": "stdout",
     "output_type": "stream",
     "text": [
      "[1033.33333333]\n"
     ]
    }
   ],
   "source": [
    "# 길이가 50cm인 농어의 무게 예측\n",
    "print(knr.predict([[50]]))\n",
    "\n",
    "# 하지만 실제 무게는 더 무겁다?\n",
    "# K-최근접 이웃 회귀를 사용해서 농어의 무게를 예측했을 때 발생하는 큰 문제는 훈련 세트의 범위 밖의 샘플을 예측할 수 없다는 점\n",
    "# 아무리 멀리 떨어져 있더라도 무조건 가까운 샘플의 타깃을 평균하여 예측"
   ]
  },
  {
   "cell_type": "code",
   "execution_count": 79,
   "id": "9b397fb3",
   "metadata": {},
   "outputs": [],
   "source": [
    "import matplotlib.pyplot as plt"
   ]
  },
  {
   "cell_type": "code",
   "execution_count": 80,
   "id": "52f31639",
   "metadata": {},
   "outputs": [
    {
     "data": {
      "image/png": "[encoded data removed]",
      "text/plain": [
       "<Figure size 640x480 with 1 Axes>"
      ]
     },
     "metadata": {},
     "output_type": "display_data"
    }
   ],
   "source": [
    "# 50cm 농어의 이웃을 구함\n",
    "distances, indexes = knr.kneighbors([[50]])\n",
    "\n",
    "# 훈련 세트의 산점도를 그림\n",
    "plt.scatter(train_input, train_target)\n",
    "\n",
    "# 훈련 세트 중에서 이웃 샘플만 다시 그림\n",
    "plt.scatter(train_input[indexes], train_target[indexes], marker = 'D')\n",
    "\n",
    "# 50cm 농어 데이터\n",
    "plt.scatter(50, 1033, marker = '^')\n",
    "\n",
    "plt.xlabel(\"length\")\n",
    "plt.ylabel(\"weight\")\n",
    "plt.show()"
   ]
  },
  {
   "cell_type": "code",
   "execution_count": 81,
   "id": "a394a142",
   "metadata": {},
   "outputs": [
    {
     "name": "stdout",
     "output_type": "stream",
     "text": [
      "1033.3333333333333\n"
     ]
    }
   ],
   "source": [
    "# 이웃 샘플의 타깃 평균\n",
    "print(np.mean(train_target[indexes]))\n",
    "\n",
    "# 50cm 농어에서 가장 가까운 것은 45cm 근방이기 때문에, K-최근접 이웃 알고리즘은 이 샘플들의 무게를 평균"
   ]
  },
  {
   "cell_type": "code",
   "execution_count": 82,
   "id": "26835b52",
   "metadata": {},
   "outputs": [
    {
     "name": "stdout",
     "output_type": "stream",
     "text": [
      "[1033.33333333]\n"
     ]
    }
   ],
   "source": [
    "# 길이가 100cm인 농어의 무게 예측 값\n",
    "print(knr.predict([[100]]))"
   ]
  },
  {
   "cell_type": "code",
   "execution_count": 83,
   "id": "2c599b84",
   "metadata": {},
   "outputs": [
    {
     "data": {
      "image/png": "[encoded data removed]",
      "text/plain": [
       "<Figure size 640x480 with 1 Axes>"
      ]
     },
     "metadata": {},
     "output_type": "display_data"
    }
   ],
   "source": [
    "# 100cm 농어의 이웃을 구함\n",
    "distances, indexes = knr.kneighbors([[100]])\n",
    "\n",
    "# 훈련 세트의 산점도를 그림\n",
    "plt.scatter(train_input, train_target)\n",
    "\n",
    "# 훈련 세트 중에서 이웃 샘플만 다시 그림\n",
    "plt.scatter(train_input[indexes], train_target[indexes], marker = 'D')\n",
    "\n",
    "# 100cm 농어 데이터\n",
    "plt.scatter(100, 1033, marker = '^')\n",
    "\n",
    "plt.xlabel(\"length\")\n",
    "plt.ylabel(\"weight\")\n",
    "plt.show()\n",
    "\n",
    "# 농어가 아무리 커도 무게가 더 늘어나지 않는 문제 발생"
   ]
  },
  {
   "cell_type": "code",
   "execution_count": 84,
   "id": "46849c9c",
   "metadata": {},
   "outputs": [],
   "source": [
    "from sklearn.linear_model import LinearRegression"
   ]
  },
  {
   "cell_type": "code",
   "execution_count": 85,
   "id": "83ba8514",
   "metadata": {},
   "outputs": [
    {
     "data": {
      "text/html": [
       "<style>#sk-container-id-3 {color: black;background-color: white;}#sk-container-id-3 pre{padding: 0;}#sk-container-id-3 div.sk-toggleable {background-color: white;}#sk-container-id-3 label.sk-toggleable__label {cursor: pointer;display: block;width: 100%;margin-bottom: 0;padding: 0.3em;box-sizing: border-box;text-align: center;}#sk-container-id-3 label.sk-toggleable__label-arrow:before {content: \"▸\";float: left;margin-right: 0.25em;color: #696969;}#sk-container-id-3 label.sk-toggleable__label-arrow:hover:before {color: black;}#sk-container-id-3 div.sk-estimator:hover label.sk-toggleable__label-arrow:before {color: black;}#sk-container-id-3 div.sk-toggleable__content {max-height: 0;max-width: 0;overflow: hidden;text-align: left;background-color: #f0f8ff;}#sk-container-id-3 div.sk-toggleable__content pre {margin: 0.2em;color: black;border-radius: 0.25em;background-color: #f0f8ff;}#sk-container-id-3 input.sk-toggleable__control:checked~div.sk-toggleable__content {max-height: 200px;max-width: 100%;overflow: auto;}#sk-container-id-3 input.sk-toggleable__control:checked~label.sk-toggleable__label-arrow:before {content: \"▾\";}#sk-container-id-3 div.sk-estimator input.sk-toggleable__control:checked~label.sk-toggleable__label {background-color: #d4ebff;}#sk-container-id-3 div.sk-label input.sk-toggleable__control:checked~label.sk-toggleable__label {background-color: #d4ebff;}#sk-container-id-3 input.sk-hidden--visually {border: 0;clip: rect(1px 1px 1px 1px);clip: rect(1px, 1px, 1px, 1px);height: 1px;margin: -1px;overflow: hidden;padding: 0;position: absolute;width: 1px;}#sk-container-id-3 div.sk-estimator {font-family: monospace;background-color: #f0f8ff;border: 1px dotted black;border-radius: 0.25em;box-sizing: border-box;margin-bottom: 0.5em;}#sk-container-id-3 div.sk-estimator:hover {background-color: #d4ebff;}#sk-container-id-3 div.sk-parallel-item::after {content: \"\";width: 100%;border-bottom: 1px solid gray;flex-grow: 1;}#sk-container-id-3 div.sk-label:hover label.sk-toggleable__label {background-color: #d4ebff;}#sk-container-id-3 div.sk-serial::before {content: \"\";position: absolute;border-left: 1px solid gray;box-sizing: border-box;top: 0;bottom: 0;left: 50%;z-index: 0;}#sk-container-id-3 div.sk-serial {display: flex;flex-direction: column;align-items: center;background-color: white;padding-right: 0.2em;padding-left: 0.2em;position: relative;}#sk-container-id-3 div.sk-item {position: relative;z-index: 1;}#sk-container-id-3 div.sk-parallel {display: flex;align-items: stretch;justify-content: center;background-color: white;position: relative;}#sk-container-id-3 div.sk-item::before, #sk-container-id-3 div.sk-parallel-item::before {content: \"\";position: absolute;border-left: 1px solid gray;box-sizing: border-box;top: 0;bottom: 0;left: 50%;z-index: -1;}#sk-container-id-3 div.sk-parallel-item {display: flex;flex-direction: column;z-index: 1;position: relative;background-color: white;}#sk-container-id-3 div.sk-parallel-item:first-child::after {align-self: flex-end;width: 50%;}#sk-container-id-3 div.sk-parallel-item:last-child::after {align-self: flex-start;width: 50%;}#sk-container-id-3 div.sk-parallel-item:only-child::after {width: 0;}#sk-container-id-3 div.sk-dashed-wrapped {border: 1px dashed gray;margin: 0 0.4em 0.5em 0.4em;box-sizing: border-box;padding-bottom: 0.4em;background-color: white;}#sk-container-id-3 div.sk-label label {font-family: monospace;font-weight: bold;display: inline-block;line-height: 1.2em;}#sk-container-id-3 div.sk-label-container {text-align: center;}#sk-container-id-3 div.sk-container {/* jupyter's `normalize.less` sets `[hidden] { display: none; }` but bootstrap.min.css set `[hidden] { display: none !important; }` so we also need the `!important` here to be able to override the default hidden behavior on the sphinx rendered scikit-learn.org. See: https://github.com/scikit-learn/scikit-learn/issues/21755 */display: inline-block !important;position: relative;}#sk-container-id-3 div.sk-text-repr-fallback {display: none;}</style><div id=\"sk-container-id-3\" class=\"sk-top-container\"><div class=\"sk-text-repr-fallback\"><pre>LinearRegression()</pre><b>In a Jupyter environment, please rerun this cell to show the HTML representation or trust the notebook. <br />On GitHub, the HTML representation is unable to render, please try loading this page with nbviewer.org.</b></div><div class=\"sk-container\" hidden><div class=\"sk-item\"><div class=\"sk-estimator sk-toggleable\"><input class=\"sk-toggleable__control sk-hidden--visually\" id=\"sk-estimator-id-3\" type=\"checkbox\" checked><label for=\"sk-estimator-id-3\" class=\"sk-toggleable__label sk-toggleable__label-arrow\">LinearRegression</label><div class=\"sk-toggleable__content\"><pre>LinearRegression()</pre></div></div></div></div></div>"
      ],
      "text/plain": [
       "LinearRegression()"
      ]
     },
     "execution_count": 85,
     "metadata": {},
     "output_type": "execute_result"
    }
   ],
   "source": [
    "# 선형 회귀 모델 훈련\n",
    "lr = LinearRegression()\n",
    "lr.fit(train_input, train_target)"
   ]
  },
  {
   "cell_type": "code",
   "execution_count": 86,
   "id": "1af408eb",
   "metadata": {},
   "outputs": [
    {
     "name": "stdout",
     "output_type": "stream",
     "text": [
      "[1242.65504031]\n"
     ]
    }
   ],
   "source": [
    "# 50cm 농어에 대한 예측\n",
    "print(lr.predict([[50]]))"
   ]
  },
  {
   "cell_type": "code",
   "execution_count": 87,
   "id": "3c992db4",
   "metadata": {},
   "outputs": [
    {
     "name": "stdout",
     "output_type": "stream",
     "text": [
      "[39.01623449] -708.1566840933172\n"
     ]
    }
   ],
   "source": [
    "# 회귀식의 coef_와 intercept_ 출력\n",
    "# coef_, intercept_: 머신러닝 알고리즘이 찾은 값. 모델 파라미터\n",
    "print(lr.coef_, lr.intercept_)"
   ]
  },
  {
   "cell_type": "code",
   "execution_count": 88,
   "id": "65508de2",
   "metadata": {},
   "outputs": [
    {
     "data": {
      "image/png": "[encoded data removed]",
      "text/plain": [
       "<Figure size 640x480 with 1 Axes>"
      ]
     },
     "metadata": {},
     "output_type": "display_data"
    }
   ],
   "source": [
    "# 훈련 세트의 산점도를 그림\n",
    "plt.scatter(train_input, train_target)\n",
    "\n",
    "# 15에서 50까지 1차방정식 그래프를 그림\n",
    "plt.plot([15,  50], [15*lr.coef_ + lr.intercept_, 50*lr.coef_ + lr.intercept_])\n",
    "\n",
    "# 50cm 농어 데이터\n",
    "plt.scatter(50, 1242.7, marker = '^')\n",
    "\n",
    "plt.xlabel(\"length\")\n",
    "plt.ylabel(\"weight\")\n",
    "plt.show()"
   ]
  },
  {
   "cell_type": "code",
   "execution_count": 89,
   "id": "cdb18224",
   "metadata": {},
   "outputs": [
    {
     "name": "stdout",
     "output_type": "stream",
     "text": [
      "0.9410631399917372\n",
      "0.8249526211943555\n"
     ]
    }
   ],
   "source": [
    "# 훈련 세트와 테스트 세트에 대해 R^2 점수 확인\n",
    "\n",
    "# 훈련 세트 score 출력\n",
    "print(lr.score(train_input, train_target))\n",
    "\n",
    "# 테스트 세트 score 출력\n",
    "print(lr.score(test_input, test_target))"
   ]
  },
  {
   "cell_type": "markdown",
   "id": "9477f38d",
   "metadata": {},
   "source": [
    "## 다항 회귀"
   ]
  },
  {
   "cell_type": "code",
   "execution_count": 90,
   "id": "4bd328a6",
   "metadata": {},
   "outputs": [],
   "source": [
    "# 최적의 직선보다 최적의 곡선 찾아보기\n",
    "# 2차방정식의 그래프를 그리기 위해 길이의 제곱항을 훈련 세트에 추가\n",
    "\n",
    "# train_input을 제곱한 것과 train_input 두 배열을 나란히 붙임\n",
    "train_poly = np.column_stack((train_input ** 2, train_input))\n",
    "\n",
    "# test_input을 제곱한 것과 test_input 두 배열을 나란히 붙임\n",
    "test_poly = np.column_stack((test_input ** 2, test_input))"
   ]
  },
  {
   "cell_type": "code",
   "execution_count": 91,
   "id": "bf7c04bc",
   "metadata": {},
   "outputs": [
    {
     "name": "stdout",
     "output_type": "stream",
     "text": [
      "(42, 2) (14, 2)\n"
     ]
    }
   ],
   "source": [
    "# train_poly와 test_poly shape 출력\n",
    "print(train_poly.shape, test_poly.shape)"
   ]
  },
  {
   "cell_type": "code",
   "execution_count": 92,
   "id": "504d8721",
   "metadata": {},
   "outputs": [
    {
     "name": "stdout",
     "output_type": "stream",
     "text": [
      "[1570.20048729]\n"
     ]
    }
   ],
   "source": [
    "# 다항식을 사용한 선형 회귀 = 다항 회귀\n",
    "\n",
    "# 모델을 훈련\n",
    "# 2차방정식 그래프를 찾기 위해 훈련 세트에 제곱 항을 추가\n",
    "# 타겟 값을 그대로 사용\n",
    "lr = LinearRegression()\n",
    "lr.fit(train_poly, train_target)\n",
    "\n",
    "# 길이가 50cm인 농어의 무게 예측 값\n",
    "print(lr.predict([[50**2, 50]]))"
   ]
  },
  {
   "cell_type": "code",
   "execution_count": 93,
   "id": "3ec3fe75",
   "metadata": {},
   "outputs": [
    {
     "name": "stdout",
     "output_type": "stream",
     "text": [
      "[  1.00162444 -20.8127127 ] 106.77501229607998\n"
     ]
    }
   ],
   "source": [
    "# 다항 회귀식의 coef와 intercept 출력\n",
    "print(lr.coef_, lr.intercept_)"
   ]
  },
  {
   "cell_type": "code",
   "execution_count": 94,
   "id": "7e9cc6a9",
   "metadata": {},
   "outputs": [
    {
     "data": {
      "image/png": "[encoded data removed]",
      "text/plain": [
       "<Figure size 640x480 with 1 Axes>"
      ]
     },
     "metadata": {},
     "output_type": "display_data"
    }
   ],
   "source": [
    "# 구간별 직선을 그리기 위해 15에서 49까지 정수 배열을 생성\n",
    "point = np.arange(15, 50)\n",
    "\n",
    "# 훈련 세트의 산점도를 그림\n",
    "plt.scatter(train_input, train_target)\n",
    "\n",
    "# 15에서 49까지 2차방정식 그래프를 그림\n",
    "plt.plot(point, 1.00*point**2 - 20.8*point + 106.78)\n",
    "\n",
    "# 50cm 농어 데이터\n",
    "plt.scatter([50], [1570], marker = '^')\n",
    "\n",
    "plt.xlabel(\"length\")\n",
    "plt.ylabel(\"weight\")\n",
    "plt.show()"
   ]
  },
  {
   "cell_type": "code",
   "execution_count": 95,
   "id": "38737e60",
   "metadata": {},
   "outputs": [
    {
     "name": "stdout",
     "output_type": "stream",
     "text": [
      "0.9709609858055641\n",
      "0.9773777953960313\n"
     ]
    }
   ],
   "source": [
    "# R^2 점수 평가\n",
    "\n",
    "# 훈련 세트 score 출력\n",
    "print(lr.score(train_poly, train_target))\n",
    "\n",
    "# 테스트 세트 score 출력\n",
    "print(lr.score(test_poly, test_target))"
   ]
  }
 ],
 "metadata": {
  "kernelspec": {
   "display_name": "Python 3 (ipykernel)",
   "language": "python",
   "name": "python3"
  },
  "language_info": {
   "codemirror_mode": {
    "name": "ipython",
    "version": 3
   },
   "file_extension": ".py",
   "mimetype": "text/x-python",
   "name": "python",
   "nbconvert_exporter": "python",
   "pygments_lexer": "ipython3",
   "version": "3.10.9"
  }
 },
 "nbformat": 4,
 "nbformat_minor": 5
}
